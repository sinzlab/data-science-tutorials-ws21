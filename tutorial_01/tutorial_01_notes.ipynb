{
 "cells": [
  {
   "cell_type": "markdown",
   "id": "4ec97063-95df-4943-bf99-aec2057dc379",
   "metadata": {},
   "source": [
    "# Session 01: Setup and Python Basics"
   ]
  },
  {
   "cell_type": "markdown",
   "id": "757d9b62-a591-498c-bead-b3304df7b855",
   "metadata": {},
   "source": [
    "---"
   ]
  },
  {
   "cell_type": "markdown",
   "id": "22751850-4712-4f10-b1ed-aa58b05e2802",
   "metadata": {
    "tags": []
   },
   "source": [
    "## Plan for this session\n",
    "- [30] Introduction round\n",
    "- [15] About the tutorials?\n",
    "- [20] Install python (via Anaconda)\n",
    "- [15] Starting from scratch: Python in the shell\n",
    "- [10] What are Python packages?\n",
    "- [10] A little bit of Jupyter notebook"
   ]
  },
  {
   "cell_type": "markdown",
   "id": "19ad1ac1-0b64-4e99-9c2f-9a01b1d56b0d",
   "metadata": {},
   "source": [
    "---"
   ]
  },
  {
   "cell_type": "markdown",
   "id": "cc829f76-cf36-4be1-aab7-7416ed5b0566",
   "metadata": {},
   "source": [
    "## Introduction round"
   ]
  },
  {
   "cell_type": "markdown",
   "id": "00feefa3-3302-4b03-ae27-9e3e085fbb88",
   "metadata": {},
   "source": [
    "So let's start by getting to know each other, we'll go around and everyone introduces himself/herself by saying their names and their subject they are studying."
   ]
  },
  {
   "cell_type": "markdown",
   "id": "f37c7de3-90f0-40c9-a5e2-cfa40ea89760",
   "metadata": {},
   "source": [
    "---"
   ]
  },
  {
   "cell_type": "markdown",
   "id": "0ff61de2-4f52-4c99-b309-bc611360f463",
   "metadata": {},
   "source": [
    "## Exercise #1: install python (via Anaconda)"
   ]
  },
  {
   "cell_type": "markdown",
   "id": "ad721ded-5989-4824-ba22-08dd59c5d201",
   "metadata": {},
   "source": [
    "---"
   ]
  },
  {
   "cell_type": "markdown",
   "id": "dd46b96d-f800-4b21-b845-dc4b1a636fdb",
   "metadata": {},
   "source": [
    "## Tutorial goals and structure"
   ]
  },
  {
   "cell_type": "markdown",
   "id": "23c12d0b-b86f-4ceb-9fe5-b49b1b90ade5",
   "metadata": {},
   "source": [
    "### Refer to slides"
   ]
  },
  {
   "cell_type": "markdown",
   "id": "4f81148b-d961-4897-add8-8b9a219d74af",
   "metadata": {},
   "source": [
    "### Exercises"
   ]
  },
  {
   "cell_type": "markdown",
   "id": "8aa82681-0108-44cb-ac98-37199f3de11b",
   "metadata": {},
   "source": [
    "- short exercises (maybe one per topic) during the tutorial\n",
    "- longer exercises to practice after the tutorial\n",
    "    - **not mandatory** to submit solutions, but if they do we as tutors can see what are the things we should revise or emphasize on in the next session\n",
    "    - which means there are **no grades** for the exercises"
   ]
  },
  {
   "cell_type": "markdown",
   "id": "59c68925-e9c6-497b-bceb-bebd8eaafc23",
   "metadata": {},
   "source": [
    "### Project"
   ]
  },
  {
   "cell_type": "markdown",
   "id": "f476bf76-93f1-45ee-8249-e43fe1a91650",
   "metadata": {},
   "source": [
    "* Real-world application of data science\n",
    "* Starts mid semester\n",
    "* In groups of two"
   ]
  },
  {
   "cell_type": "markdown",
   "id": "84fd29f3-a078-4958-b815-0e1eeef580c5",
   "metadata": {},
   "source": [
    "---"
   ]
  },
  {
   "cell_type": "markdown",
   "id": "cc3f16aa-8667-41b0-8765-cea544f2867f",
   "metadata": {},
   "source": [
    "## Shell application (CMD/Terminal)"
   ]
  },
  {
   "cell_type": "markdown",
   "id": "6491cb24-f2b3-4868-b37a-a0c6e2eb6275",
   "metadata": {},
   "source": [
    "**Shell (Linux)**: Simply put, the shell is a program that takes commands from the keyboard and gives them to the operating system to perform. On most Linux systems a program called bash acts as the shell program.\n",
    "\n",
    "**CMD (windows)**: Command Prompt is a command line interpreter application used to execute entered commands. Most of those commands automate tasks via scripts and batch files (a file with the .BAT file extension), perform advanced administrative functions, and troubleshoot or solve certain kinds of Windows issues. <br>\n",
    "Command Prompt is officially called Windows Command Processor, but it is also sometimes referred to as the command shell or cmd prompt, or even by its filename, cmd.exe. Sometimes, incorrectly, it is referred to as \"the DOS prompt\" or as MS-DOS itself. Command Prompt is a Windows program that emulates many of the command line abilities available in MS-DOS, but it's not MS-DOS.\n"
   ]
  },
  {
   "cell_type": "markdown",
   "id": "670e4ebc-3892-412f-8972-0a4016c508b3",
   "metadata": {},
   "source": [
    "## List of Commands"
   ]
  },
  {
   "cell_type": "code",
   "execution_count": 1,
   "id": "ee8d865a-eead-42e4-bfd4-cb3d1ee0fccf",
   "metadata": {},
   "outputs": [],
   "source": [
    "# from IPython.display import IFrame\n",
    "# IFrame('../cheatsheets/terminal_commands.pdf', width=800, height=700)"
   ]
  },
  {
   "cell_type": "markdown",
   "id": "ecd9a651-cc2a-4bb6-bb64-abe255007339",
   "metadata": {},
   "source": [
    "- Show them an example (maybe exactly what you are asking below)"
   ]
  },
  {
   "cell_type": "markdown",
   "id": "92994d0c-aa90-4016-846f-7165ec81e810",
   "metadata": {},
   "source": [
    "## Exercise #2"
   ]
  },
  {
   "cell_type": "markdown",
   "id": "e90578b0-b21a-44a6-a861-bfdffe5ee0d1",
   "metadata": {},
   "source": [
    "---"
   ]
  },
  {
   "cell_type": "markdown",
   "id": "e42c0e6b-482d-4eba-9558-d8aff931b3c1",
   "metadata": {
    "slideshow": {
     "slide_type": "slide"
    }
   },
   "source": [
    "## Getting started with Python\n",
    "**Python** is a high-level and powerful object-oriented **programming language** designed to be used for writing software in the widest variety of application domains (a general-purpose language). It takes text that you’ve written (usually referred to as code), turns it into instructions for your computer, and runs those instructions.\n",
    "\n",
    "Practically, Python is just another program on your computer. The first thing to learn is how to use and interact with it. There are in fact many ways to do this; the first one to learn is to interact with python’s interpreter, using your operating system’s (OS) console. A **console** (or ‘terminal’, or ‘command prompt’) is a textual way to interact with your OS, as mentioned earlier."
   ]
  },
  {
   "cell_type": "markdown",
   "id": "86caa399-a18a-4758-be8b-57ea0cbaed38",
   "metadata": {},
   "source": [
    "The python program that you have installed will by default act as something called an interpreter. An interpreter takes text commands and runs them as you enter them - very handy for trying things out. Just type `python` in your console, hit Enter, and you should enter Python’s Interpreter, which looks something like this:"
   ]
  },
  {
   "cell_type": "markdown",
   "id": "4642994c-4b7f-4d18-9ef2-ccf42ddfb844",
   "metadata": {},
   "source": [
    "```\n",
    "Python 3.6.8 |Anaconda, Inc.| (default, Dec 30 2018, 01:22:34) \n",
    "[GCC 7.3.0] on linux\n",
    "Type \"help\", \"copyright\", \"credits\" or \"license\" for more information.\n",
    ">>> \n",
    "```"
   ]
  },
  {
   "cell_type": "markdown",
   "id": "11e05965-447c-4e7b-a0e2-8d6c16540c93",
   "metadata": {},
   "source": [
    "You can now enter some code for python to run:\n",
    "\n",
    "```\n",
    ">>> print(\"Hello world\")\n",
    "```\n",
    "or\n",
    "```\n",
    ">>> (4 + 2) * 5\n",
    "```"
   ]
  },
  {
   "cell_type": "markdown",
   "id": "51f09d4b-1ca0-489f-a3da-5dc686cc849d",
   "metadata": {},
   "source": [
    "What are the output?"
   ]
  },
  {
   "cell_type": "markdown",
   "id": "9befeec7-018c-44cc-8604-99f74225bf8c",
   "metadata": {},
   "source": [
    "You can **exit** the Python interpreter by typing `exit()` or `Ctrl + d`."
   ]
  },
  {
   "cell_type": "markdown",
   "id": "3300f3e0-f35f-4ed3-874d-9c45e9771cfe",
   "metadata": {},
   "source": [
    "---"
   ]
  },
  {
   "cell_type": "markdown",
   "id": "568fb112-9235-4a85-968a-580786e2257f",
   "metadata": {},
   "source": [
    "## IPython"
   ]
  },
  {
   "cell_type": "markdown",
   "id": "44d39e76-f416-4a02-a651-bf2813b93fb6",
   "metadata": {},
   "source": [
    "IPython is an interactive shell for the Python programming language that offers enhanced introspection, additional shell syntax, tab completion and rich history.\n",
    "\n",
    "Similar to Python, you can enter **IPython** by simply typing `ipython` in your console and pressing enter. It also looks very similar to Python interpreter, but its **<font color=\"red\">c</font><font color=\"orange\">o</font><font color=\"green\">l</font><font color=\"cyan\">o</font><font color=\"blue\">r</font>ful**.\n",
    "\n",
    "```\n",
    "Python 3.6.8 |Anaconda, Inc.| (default, Dec 30 2018, 01:22:34) \n",
    "Type 'copyright', 'credits' or 'license' for more information\n",
    "IPython 7.2.0 -- An enhanced Interactive Python. Type '?' for help.\n",
    "\n",
    "In [1]:\n",
    "\n",
    "```"
   ]
  },
  {
   "cell_type": "markdown",
   "id": "b98776ca-ce85-4d64-8924-df6ad533ef4c",
   "metadata": {},
   "source": [
    "You can **exit** the IPython console by typing `exit()` or `Ctrl + d`."
   ]
  },
  {
   "cell_type": "markdown",
   "id": "21977aa1-50e4-4efd-972a-5e9eedd35055",
   "metadata": {},
   "source": [
    "---"
   ]
  },
  {
   "cell_type": "markdown",
   "id": "89ca42c7-8ec4-4de2-b120-22ae573cfd43",
   "metadata": {},
   "source": [
    "## Python libraries/packages"
   ]
  },
  {
   "cell_type": "markdown",
   "id": "a504cb01-f501-4ecd-836a-da607a4cb767",
   "metadata": {},
   "source": [
    "- So.. now, let's learn our first function: the `print()` function. What does the print function do? it prints whatever input we give it. The green color means, it is a default function provided by Python.\n",
    "- **Standard Library**: but what if we want more functions that is not inside Python? This is where Python libraries or packages come in. These are simply a collection of functions, sitting in a file (aka module). To be able to use the functions provided by a library, we need to import the library.. so let's try a Python library used for math functions: `math` library\n",
    "\n",
    "Let's try one of these standard libraries:\n",
    "```\n",
    "import math\n",
    "\n",
    "```\n",
    "\n",
    "Now, we just imported the library, and based on the definition, it should provide some functionality to us. How do we know what kind of functions it has? There are several ways to do that: My favorite way, and probably the fastest way is **tab completion**. Type `math.` and press TAB.\n",
    "\n",
    "Let's choose one of them (e.g., `math.degrees`). Can you tell me what does it do? **- give them time to discuss this**\n",
    "\n",
    "There is an easy way to actually figure out what it does: <br>\n",
    "Using the **question mark, ?**. Type the following and press ENTER.\n",
    "```\n",
    "math.degrees?\n",
    "```"
   ]
  },
  {
   "cell_type": "markdown",
   "id": "cf010233-faa8-4fb2-9382-3c0ace52e346",
   "metadata": {},
   "source": [
    "Note that it is not only about the functions it provides, libraries can also provide values.. for instance, in the context of the math library, one could expect to also see a `math.pi`.. do we? Yes!"
   ]
  },
  {
   "cell_type": "markdown",
   "id": "e2021c86-72d1-4737-8dfd-0fd175a976bf",
   "metadata": {},
   "source": [
    "## Exercise #3"
   ]
  },
  {
   "cell_type": "markdown",
   "id": "bee5655a-cb8b-4705-ad8a-ee8267b8fa56",
   "metadata": {},
   "source": [
    "<font color=\"red\">Did not demo how to install third-party packages! -> next session</font>\n",
    "- **Third-party Library**: Now there are two different kinds of libraries: there are libraries that are shipped with Python. That is, as soons as you install Python, you have them and you can import them - these are called the Python Standard Library. But there are some other libraries that are not shipped with Python and we have to install them - these are called third-party packages. And there is a growing collection of several thousand of them, available from the [Python Package Index](https://pypi.org/).\n",
    "\n",
    "So.. how do we use these python packages? This basically requires two steps:\n",
    "1. install the packages\n",
    "2. as before, import the package\n",
    "\n",
    "Let's go try a packages:\n",
    "- let's open PyPI. Here we can see every Python packages that exist out there!\n",
    "- Let's search for something...\n",
    "- Now we have the name of the package we want to use.. let's install it\n",
    "- installing a Python package is as easy as typing `pip install <name of the package>`  \n",
    "- and now we can use the package as we did use `math` package"
   ]
  },
  {
   "cell_type": "markdown",
   "id": "be901bef-7784-4f1e-a523-99e77fad5104",
   "metadata": {},
   "source": [
    "---"
   ]
  },
  {
   "cell_type": "markdown",
   "id": "abe69979-4db0-4acf-8f22-3a421f9e5cd1",
   "metadata": {},
   "source": [
    "## Jupyter Notebook"
   ]
  },
  {
   "cell_type": "markdown",
   "id": "7d41f806-e182-4e85-99f2-9d0397afee39",
   "metadata": {},
   "source": [
    "So far, we learnt how to write python code in the Python interpreter, IPython shell, as well as creating Python scripts which contain multiple lines of code. What other tools could be helpful to make programming even more convinient?\n",
    "- [x] tab completion\n",
    "- [ ] being able to write either one or multiple lines of code, and have a track of all that we have written\n",
    "- [ ] being able to write nice comments and text within our code\n",
    "- [ ] being able to add pictures, math equation in our code to facilitate better understanding of the code"
   ]
  },
  {
   "cell_type": "markdown",
   "id": "3af4dc70-538f-4183-8188-47449612f7fa",
   "metadata": {},
   "source": [
    "**Jupyter Notebook** provides these features for us. Jupyter notebook is an even more interactive python environment that runs in the browser: https://jupyter-notebook.readthedocs.io/en/stable/notebook.html"
   ]
  },
  {
   "cell_type": "code",
   "execution_count": 9,
   "id": "a9f7d141-a0d5-4159-95f9-6527149b2b87",
   "metadata": {},
   "outputs": [
    {
     "data": {
      "text/html": [
       "<img src=\"http://jupyter.org/assets/jupyterpreview.png\" width=\"800\"/>"
      ],
      "text/plain": [
       "<IPython.core.display.Image object>"
      ]
     },
     "execution_count": 9,
     "metadata": {},
     "output_type": "execute_result"
    }
   ],
   "source": [
    "from IPython.display import Image\n",
    "Image(url='http://jupyter.org/assets/jupyterpreview.png', width=800)"
   ]
  },
  {
   "cell_type": "markdown",
   "id": "83299e1b-4b3d-41c4-b7da-f2a55a767db3",
   "metadata": {},
   "source": [
    "<br>\n",
    "Simply type `jupyter notebook` in your console."
   ]
  },
  {
   "cell_type": "markdown",
   "id": "81cc3e9d-bb0b-4e0d-bd54-09b0822df957",
   "metadata": {},
   "source": [
    "---"
   ]
  }
 ],
 "metadata": {
  "kernelspec": {
   "display_name": "Python 3",
   "language": "python",
   "name": "python3"
  },
  "language_info": {
   "codemirror_mode": {
    "name": "ipython",
    "version": 3
   },
   "file_extension": ".py",
   "mimetype": "text/x-python",
   "name": "python",
   "nbconvert_exporter": "python",
   "pygments_lexer": "ipython3",
   "version": "3.8.8"
  }
 },
 "nbformat": 4,
 "nbformat_minor": 5
}
