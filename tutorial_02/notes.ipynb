{
 "cells": [
  {
   "cell_type": "markdown",
   "id": "4ec97063-95df-4943-bf99-aec2057dc379",
   "metadata": {},
   "source": [
    "# Session 02: Setup and Python Basics"
   ]
  },
  {
   "cell_type": "markdown",
   "id": "757d9b62-a591-498c-bead-b3304df7b855",
   "metadata": {},
   "source": [
    "---"
   ]
  },
  {
   "cell_type": "markdown",
   "id": "a164f9b3-663e-41db-ade0-5c0aeee769ea",
   "metadata": {},
   "source": [
    "## What we talked about last time\n",
    "- [30] Introduction round\n",
    "- [15] About the tutorials?\n",
    "- [20] Install python (via Anaconda)\n",
    "- [15] Starting from scratch: Python in the shell\n",
    "- [10] What are Python packages?\n",
    "- [10] A little bit of Jupyter notebook"
   ]
  },
  {
   "cell_type": "markdown",
   "id": "22751850-4712-4f10-b1ed-aa58b05e2802",
   "metadata": {
    "tags": []
   },
   "source": [
    "## Plan for today\n",
    "- [10] Installing third-party packages\n",
    "- [10] Creating and running Python scripts\n",
    "- [10] Jupyter notebook and jupyter lab\n",
    "- [10] Python data structures\n",
    "- [5] Indexing and slicing\n",
    "- [5] Typecasting\n",
    "- [5] Arithmetic operations\n",
    "- [10] numpy and matplotlib"
   ]
  },
  {
   "cell_type": "markdown",
   "id": "19ad1ac1-0b64-4e99-9c2f-9a01b1d56b0d",
   "metadata": {},
   "source": [
    "---"
   ]
  },
  {
   "cell_type": "markdown",
   "id": "b4e26425-6be1-4d38-93c5-6db4fa3c9c69",
   "metadata": {},
   "source": [
    "# Let's do the first couple of Steps together:\n"
   ]
  },
  {
   "cell_type": "markdown",
   "id": "7d4de7c5-fb2c-45e4-a373-42b08e9785ff",
   "metadata": {},
   "source": [
    "- Open a Terminal / Shell\n",
    "- Create the folder:\n",
    "    - DS_tutorial/tutorial_02/notebooks/\n",
    "    - DS_tutorial/tutorial_02/scripts/\n",
    "- copy all notebooks and exercises from StudIP into the `notebooks` folder\n",
    "- in the `notebooks` folder, run the command `jupyer lab` in your shell\n",
    "- open this notebook `tutorial_02_python_basics_notes`\n",
    "- now you are ready to follow along\n"
   ]
  },
  {
   "cell_type": "markdown",
   "id": "180e12ea-fc24-4821-8d0c-810de0b1d32f",
   "metadata": {},
   "source": [
    "## Python libraries/packages"
   ]
  },
  {
   "cell_type": "markdown",
   "id": "3e0a3e1b-1fa9-46d1-ab14-6bd8ecd01776",
   "metadata": {},
   "source": [
    "- Last time we talked about standard libraries -> libraries that are shipped with Python (i.e. when you install python you have these packages and can use them) -> for example the `math` package.\n",
    "- **Third-party Library**: Now there are two different kinds of libraries: there are libraries that are shipped with Python. That is, as soons as you install Python, you have them and you can import them - these are called the Python Standard Library. But there are some other libraries that are not shipped with Python and we have to install them - these are called third-party packages. And there is a growing collection of several thousand of them, available from the [Python Package Index](https://pypi.org/).\n",
    "\n",
    "So.. how do we use these python packages? This basically requires two steps:\n",
    "1. install the packages\n",
    "2. as before, import the package\n",
    "\n",
    "Let's go try a packages:\n",
    "- let's open PyPI. Here we can see every Python packages that exist out there!\n",
    "- Let's search for something...\n",
    "- Now we have the name of the package we want to use.. let's install it\n",
    "- installing a Python package is as easy as typing `pip install <name of the package>`\n",
    "- and now we can use the package as we did use `math` package"
   ]
  },
  {
   "cell_type": "markdown",
   "id": "65398c4b-ac19-42f5-a3a5-4f5073553fb8",
   "metadata": {},
   "source": [
    "---\n",
    "## Python script"
   ]
  },
  {
   "cell_type": "markdown",
   "id": "f9260149-12e5-44a9-9f86-435b11328db4",
   "metadata": {},
   "source": [
    "When you have a lot of python code to run, you will want to save it into a file. Instead of typing commands in one-by-one, you can save your code to a file and pass the file name to the python program. It will execute that file’s code instead of launching its interactive interpreter. This is called a **Python script** - a python file which includes python code. Python files have the **.py** extention, and you can run them in your console using the following command:\n",
    "```\n",
    "python your_file.py\n",
    "```\n",
    "\n",
    "Here is a demo:\n",
    "- Let me close and reopen the shell application\n",
    "- I naviagte to the directory where I want to create my python script\n",
    "- I am gonna name my Python script `script1.py`. Note that the extension for a Python script is `.py`\n",
    "- Now I am gonna open Atom, and then open my project directory, and then open the script I just created\n",
    "- Then I am just gonna define a variable, and print it\n",
    "- And now I can run the content of my script from the Shell application"
   ]
  },
  {
   "cell_type": "markdown",
   "id": "fa86820b-22df-4f52-b62f-803a6a3c5556",
   "metadata": {
    "pycharm": {
     "name": "#%% md\n"
    }
   },
   "source": [
    "---\n",
    "\n",
    "## Namespaces and Objects\n",
    "\n",
    "Alright, so before we proceed I want to talk about two concepts that are important in programming world, and I want to make them clear now: **Namespaces** and **Objects**.\n",
    "\n",
    "### Namespaces\n",
    "\n",
    "This is something I struggled with in the beginning days, but it turned out that it is embrassingly simple! <br>\n",
    "**Namespace** is a space where names are unique.\n",
    "\n",
    "For instance, let's think about a household: a family with bunch of people. In a family, usually the kids are named uniquely:\n",
    "- **Family 1**: Sara, <font color=\"red\">Daniel</font>, and Elisabeth\n",
    "- **Family 2**: Jonas, Ali, and <font color=\"red\">Daniel</font>\n",
    "\n",
    "What makes the two <font color=\"red\">Daniel</font>s unique? - the family name..\n",
    "- space -> family, and\n",
    "- the name of the pace (namespace) -> family name\n",
    "\n",
    "But, in the context of porgamming,\n",
    "- what kind of space are we talking about? **Memory space**...\n",
    "- what do we do within this space? **define variables, functions, etc** with unique names\n",
    "\n",
    "Now,\n",
    "- first, let me show this to you in practice. I am gonna create a Python script called `script1.py`. This script occupies a certain amount of memory space, and within this space (i.e., the script) we can define variable and functions (since we did not talk about functions yet, we will sctick to variables for now, but the same thing is true for anything that we define within the script).\n",
    "- now, instead of running the script, what we can do is to use the variables we defined inside the script. For that we need to import the script, and then we can use the variables we defined inside this script\n",
    "- so I am gonna make a variable called `x` in the script, which is equal to 10\n",
    "- and then I am gonna make a variable x, within our Ipython console.. ideally these two should be different, and in fact they are due this attachment to the scrip name!\n",
    "- to show this maybe even better, let's make another script called `script2.py`, and define exactly same variables in it, with different values.\n",
    "- now we can import both `script1` and `script2` in our Ipython console, and we see that because we are taking advantage of the name assigned to these namespaces, we can have `x`s and `y`s with different values.\n",
    "\n",
    "\n",
    "And, finally what is the relation of all of this to **object**? Anything that occupies memory space is an **object**!\n",
    "- our scripts are object, within which we defined variables\n",
    "- our directories are objects, within which we created scripts\n",
    "- remember the math library? that is also an object, and within that object we have some variables and functions that we can use!\n",
    "- everything in Python is an object!\n",
    "\n",
    "And the variables and functions that are defined within this memory space are related to the object.\n",
    "\n",
    "### Again\n",
    "Objects are spaces of the memory, and within this space there are variables and functions, attached to this object/space!\n",
    "\n",
    "### Some jargons that you hear are Attributes and methods.. nothing special about them, Attributes are variables, and methods are functions.\n",
    "\n",
    "The next question is, if we have an object how can we know what attributes and methods does it have? - using the `dir()` built-in method.\n",
    "- Let's do this for our math library. This is basically printing almost everything that appears when we press TAB\n",
    "- Let's do it for a variable which is equal to 10."
   ]
  },
  {
   "cell_type": "code",
   "execution_count": 1,
   "id": "630bdf38-2ad0-4068-95c1-921d7344ca26",
   "metadata": {},
   "outputs": [],
   "source": [
    "import math"
   ]
  },
  {
   "cell_type": "code",
   "execution_count": 2,
   "id": "e6d590c4-6b87-4e4e-ae58-a0c3d3281bb2",
   "metadata": {},
   "outputs": [
    {
     "data": {
      "text/plain": [
       "['__doc__',\n",
       " '__file__',\n",
       " '__loader__',\n",
       " '__name__',\n",
       " '__package__',\n",
       " '__spec__',\n",
       " 'acos',\n",
       " 'acosh',\n",
       " 'asin',\n",
       " 'asinh',\n",
       " 'atan',\n",
       " 'atan2',\n",
       " 'atanh',\n",
       " 'ceil',\n",
       " 'comb',\n",
       " 'copysign',\n",
       " 'cos',\n",
       " 'cosh',\n",
       " 'degrees',\n",
       " 'dist',\n",
       " 'e',\n",
       " 'erf',\n",
       " 'erfc',\n",
       " 'exp',\n",
       " 'expm1',\n",
       " 'fabs',\n",
       " 'factorial',\n",
       " 'floor',\n",
       " 'fmod',\n",
       " 'frexp',\n",
       " 'fsum',\n",
       " 'gamma',\n",
       " 'gcd',\n",
       " 'hypot',\n",
       " 'inf',\n",
       " 'isclose',\n",
       " 'isfinite',\n",
       " 'isinf',\n",
       " 'isnan',\n",
       " 'isqrt',\n",
       " 'ldexp',\n",
       " 'lgamma',\n",
       " 'log',\n",
       " 'log10',\n",
       " 'log1p',\n",
       " 'log2',\n",
       " 'modf',\n",
       " 'nan',\n",
       " 'perm',\n",
       " 'pi',\n",
       " 'pow',\n",
       " 'prod',\n",
       " 'radians',\n",
       " 'remainder',\n",
       " 'sin',\n",
       " 'sinh',\n",
       " 'sqrt',\n",
       " 'tan',\n",
       " 'tanh',\n",
       " 'tau',\n",
       " 'trunc']"
      ]
     },
     "execution_count": 2,
     "metadata": {},
     "output_type": "execute_result"
    }
   ],
   "source": [
    "dir(math)"
   ]
  },
  {
   "cell_type": "code",
   "execution_count": 5,
   "id": "5ed39f08-4b2c-4222-85ab-fcee014160d5",
   "metadata": {},
   "outputs": [
    {
     "data": {
      "text/plain": [
       "<function math.acos(x, /)>"
      ]
     },
     "execution_count": 5,
     "metadata": {},
     "output_type": "execute_result"
    }
   ],
   "source": [
    "math.acos"
   ]
  },
  {
   "cell_type": "code",
   "execution_count": 7,
   "id": "9bf15be7-51d9-40c2-865a-666b96a89fb5",
   "metadata": {},
   "outputs": [],
   "source": [
    "a = 10"
   ]
  },
  {
   "cell_type": "code",
   "execution_count": 8,
   "id": "be901bef-7784-4f1e-a523-99e77fad5104",
   "metadata": {
    "pycharm": {
     "name": "#%%\n"
    }
   },
   "outputs": [
    {
     "data": {
      "text/plain": [
       "['__abs__',\n",
       " '__add__',\n",
       " '__and__',\n",
       " '__bool__',\n",
       " '__ceil__',\n",
       " '__class__',\n",
       " '__delattr__',\n",
       " '__dir__',\n",
       " '__divmod__',\n",
       " '__doc__',\n",
       " '__eq__',\n",
       " '__float__',\n",
       " '__floor__',\n",
       " '__floordiv__',\n",
       " '__format__',\n",
       " '__ge__',\n",
       " '__getattribute__',\n",
       " '__getnewargs__',\n",
       " '__gt__',\n",
       " '__hash__',\n",
       " '__index__',\n",
       " '__init__',\n",
       " '__init_subclass__',\n",
       " '__int__',\n",
       " '__invert__',\n",
       " '__le__',\n",
       " '__lshift__',\n",
       " '__lt__',\n",
       " '__mod__',\n",
       " '__mul__',\n",
       " '__ne__',\n",
       " '__neg__',\n",
       " '__new__',\n",
       " '__or__',\n",
       " '__pos__',\n",
       " '__pow__',\n",
       " '__radd__',\n",
       " '__rand__',\n",
       " '__rdivmod__',\n",
       " '__reduce__',\n",
       " '__reduce_ex__',\n",
       " '__repr__',\n",
       " '__rfloordiv__',\n",
       " '__rlshift__',\n",
       " '__rmod__',\n",
       " '__rmul__',\n",
       " '__ror__',\n",
       " '__round__',\n",
       " '__rpow__',\n",
       " '__rrshift__',\n",
       " '__rshift__',\n",
       " '__rsub__',\n",
       " '__rtruediv__',\n",
       " '__rxor__',\n",
       " '__setattr__',\n",
       " '__sizeof__',\n",
       " '__str__',\n",
       " '__sub__',\n",
       " '__subclasshook__',\n",
       " '__truediv__',\n",
       " '__trunc__',\n",
       " '__xor__',\n",
       " 'as_integer_ratio',\n",
       " 'bit_length',\n",
       " 'conjugate',\n",
       " 'denominator',\n",
       " 'from_bytes',\n",
       " 'imag',\n",
       " 'numerator',\n",
       " 'real',\n",
       " 'to_bytes']"
      ]
     },
     "execution_count": 8,
     "metadata": {},
     "output_type": "execute_result"
    }
   ],
   "source": [
    "dir(a)"
   ]
  },
  {
   "cell_type": "code",
   "execution_count": 10,
   "id": "abe69979-4db0-4acf-8f22-3a421f9e5cd1",
   "metadata": {
    "pycharm": {
     "name": "#%%\n"
    }
   },
   "outputs": [
    {
     "data": {
      "text/plain": [
       "\u001B[0;31mDocstring:\u001B[0m Returns self, the complex conjugate of any int.\n",
       "\u001B[0;31mType:\u001B[0m      builtin_function_or_method\n"
      ]
     },
     "metadata": {},
     "output_type": "display_data"
    }
   ],
   "source": [
    "a.conjugate?"
   ]
  },
  {
   "cell_type": "code",
   "execution_count": 11,
   "id": "299915f8-c7bb-4820-bf00-aa388d28de91",
   "metadata": {},
   "outputs": [
    {
     "data": {
      "text/plain": [
       "\u001B[0;31mDocstring:\u001B[0m Returns self, the complex conjugate of any int.\n",
       "\u001B[0;31mType:\u001B[0m      builtin_function_or_method\n"
      ]
     },
     "metadata": {},
     "output_type": "display_data"
    }
   ],
   "source": [
    "a.conjugate??"
   ]
  },
  {
   "cell_type": "markdown",
   "id": "7d41f806-e182-4e85-99f2-9d0397afee39",
   "metadata": {},
   "source": [
    "---"
   ]
  },
  {
   "cell_type": "markdown",
   "id": "3af4dc70-538f-4183-8188-47449612f7fa",
   "metadata": {},
   "source": [
    "## Jupyter Notebook"
   ]
  },
  {
   "cell_type": "markdown",
   "id": "a9f7d141-a0d5-4159-95f9-6527149b2b87",
   "metadata": {
    "pycharm": {
     "name": "#%% md\n"
    }
   },
   "source": [
    "So far, we learnt how to write python code in the Python interpreter, IPython shell, as well as creating Python scripts which contain multiple lines of code. What other tools could be helpful to make programming even more convinient?\n",
    "- [x] tab completion\n",
    "- [ ] being able to write either one or multiple lines of code, and have a track of all that we have written\n",
    "- [ ] being able to write nice comments and text within our code\n",
    "- [ ] being able to add pictures, math equation in our code to facilitate better understanding of the code"
   ]
  },
  {
   "cell_type": "markdown",
   "id": "83299e1b-4b3d-41c4-b7da-f2a55a767db3",
   "metadata": {},
   "source": [
    "**Jupyter Notebook** provides these features for us. Jupyter notebook is an even more interactive python environment that runs in the browser: https://jupyter-notebook.readthedocs.io/en/stable/notebook.html"
   ]
  },
  {
   "cell_type": "code",
   "execution_count": 12,
   "id": "81cc3e9d-bb0b-4e0d-bd54-09b0822df957",
   "metadata": {
    "pycharm": {
     "name": "#%%\n"
    }
   },
   "outputs": [
    {
     "data": {
      "text/html": [
       "<img src=\"http://jupyter.org/assets/jupyterpreview.png\" width=\"800\"/>"
      ],
      "text/plain": [
       "<IPython.core.display.Image object>"
      ]
     },
     "execution_count": 12,
     "metadata": {},
     "output_type": "execute_result"
    }
   ],
   "source": [
    "from IPython.display import Image\n",
    "Image(url='http://jupyter.org/assets/jupyterpreview.png', width=800)"
   ]
  },
  {
   "cell_type": "markdown",
   "id": "93d455e7-d22d-4a36-8939-d1aed5614ba8",
   "metadata": {},
   "source": [
    "<br>\n",
    "Simply type `jupyter notebook` in your console."
   ]
  },
  {
   "cell_type": "markdown",
   "id": "4c8778fa-3332-416a-8eab-2b5a53314af1",
   "metadata": {},
   "source": [
    "---"
   ]
  },
  {
   "cell_type": "markdown",
   "id": "e4532661-6dee-4893-a88e-70dc307e9c65",
   "metadata": {
    "pycharm": {
     "name": "#%% md\n"
    }
   },
   "source": [
    "## Jupyter Lab"
   ]
  },
  {
   "cell_type": "markdown",
   "id": "11b1e5c8-af88-47a9-aaff-093ae3cde93d",
   "metadata": {},
   "source": [
    "Now we got console (terminal or cmd), text editor (Atom, Sublime, etc.), and Jupyter Notebook. What if we had all of these at the same place?\n",
    "\n",
    "**Jupyter Lab** combines all of the topics of today into one environment in the browser: command line, python console, jupyter notebook: https://jupyterlab.readthedocs.io/en/latest/"
   ]
  },
  {
   "cell_type": "code",
   "execution_count": null,
   "id": "e5ef9a29-e680-4961-b4cd-bbe5e01270c2",
   "metadata": {
    "pycharm": {
     "name": "#%%\n"
    }
   },
   "outputs": [],
   "source": [
    "from IPython.display import Image\n",
    "Image(url='https://jupyterlab.readthedocs.io/en/stable/_images/jupyterlab.png', width=1000)"
   ]
  },
  {
   "cell_type": "markdown",
   "id": "fbb7cd34-4c71-48e0-935b-13098bc45f69",
   "metadata": {},
   "source": [
    "You can open it by typing `jupyter lab` in your console.\n",
    "\n",
    "So, let me show you how this works..\n",
    "- jupyterlab is also a Python library on its own\n",
    "- so we install it first `pip install jupyterlab`\n",
    "- and then I am gonna navigate to the `notebooks` directoy inside the `workshop` directory\n",
    "- and we can open jupyter lab by simply typing `jupyter lab`\n",
    "- a short tutorial on jupyter lab"
   ]
  },
  {
   "cell_type": "markdown",
   "id": "fb9ee580-0352-4063-8042-70c9930835de",
   "metadata": {},
   "source": [
    "---"
   ]
  },
  {
   "cell_type": "markdown",
   "id": "daa2c892-4512-4676-b74f-0d8a2c7fc0f5",
   "metadata": {},
   "source": [
    "# Quick Break"
   ]
  },
  {
   "cell_type": "markdown",
   "id": "232a1899-6251-47e8-9f12-7db0f580f97a",
   "metadata": {
    "pycharm": {
     "name": "#%% md\n"
    },
    "slideshow": {
     "slide_type": "fragment"
    }
   },
   "source": [
    "---"
   ]
  },
  {
   "cell_type": "markdown",
   "id": "d24e2a13-50af-46c7-b254-fb17873e70ea",
   "metadata": {},
   "source": [
    "## Python Data Structure\n",
    "\n"
   ]
  },
  {
   "cell_type": "code",
   "execution_count": 13,
   "id": "8c95cf40-3809-41ea-85a4-c71bf40035d0",
   "metadata": {},
   "outputs": [],
   "source": [
    "a_int = 3\n",
    "a_float = 4.4\n",
    "a_bool = True\n",
    "a_str = 'hello'\n",
    "a_list = [1, 2.4, 'goodbye', [12, 2, 3]]\n",
    "a_tuple = (4, 3.5, 'dog', 'cat')\n",
    "# a_dict = {1: 5,\n",
    "#           'a': 2,\n",
    "#           'b': 'cat',\n",
    "#           'dog': 8}\n",
    "a_set = {1, 1, 2}"
   ]
  },
  {
   "cell_type": "markdown",
   "id": "52ac4824-7de6-4bf4-bf38-16206e0aada9",
   "metadata": {
    "pycharm": {
     "name": "#%% md\n"
    }
   },
   "source": [
    "## Single values\n",
    "Basic Python data types to represent a single real number are:\n",
    "- int, and\n",
    "- float"
   ]
  },
  {
   "cell_type": "code",
   "execution_count": 14,
   "id": "ded4ed77-2b97-488e-b50b-fe74d754302e",
   "metadata": {
    "pycharm": {
     "name": "#%%\n"
    }
   },
   "outputs": [],
   "source": [
    "an_int = 7"
   ]
  },
  {
   "cell_type": "code",
   "execution_count": 15,
   "id": "e20b26c8-09d9-4fe0-9bde-d5433f0f53fb",
   "metadata": {},
   "outputs": [],
   "source": [
    "a_float = 7.0"
   ]
  },
  {
   "cell_type": "markdown",
   "id": "31b623b7-5ef9-443c-b856-0284a41c264d",
   "metadata": {
    "pycharm": {
     "name": "#%% md\n"
    }
   },
   "source": [
    "How can we know the type of a specific variable?"
   ]
  },
  {
   "cell_type": "code",
   "execution_count": 19,
   "id": "636e4b30-efc7-4492-ac97-74e0effa8132",
   "metadata": {},
   "outputs": [
    {
     "data": {
      "text/plain": [
       "int"
      ]
     },
     "execution_count": 19,
     "metadata": {},
     "output_type": "execute_result"
    }
   ],
   "source": [
    "type(7)"
   ]
  },
  {
   "cell_type": "code",
   "execution_count": 20,
   "id": "d5cb3c90-a64c-49bd-81b8-1e3b8f6596cb",
   "metadata": {
    "pycharm": {
     "name": "#%%\n"
    }
   },
   "outputs": [
    {
     "data": {
      "text/plain": [
       "float"
      ]
     },
     "execution_count": 20,
     "metadata": {},
     "output_type": "execute_result"
    }
   ],
   "source": [
    "type(7.0)"
   ]
  },
  {
   "cell_type": "code",
   "execution_count": 21,
   "id": "aae7d924-128c-420f-849a-853fee46384d",
   "metadata": {},
   "outputs": [
    {
     "data": {
      "text/plain": [
       "float"
      ]
     },
     "execution_count": 21,
     "metadata": {},
     "output_type": "execute_result"
    }
   ],
   "source": [
    "type(a_float)"
   ]
  },
  {
   "cell_type": "markdown",
   "id": "df9c2753-c6ee-4ffd-9c23-1b5c545c79d6",
   "metadata": {
    "pycharm": {
     "name": "#%% md\n"
    }
   },
   "source": [
    "We also have a specific data type in python to express True or False values - Boolean"
   ]
  },
  {
   "cell_type": "code",
   "execution_count": 23,
   "id": "d30da46f-f309-4297-b02d-56ed45877b95",
   "metadata": {
    "pycharm": {
     "name": "#%%\n"
    }
   },
   "outputs": [],
   "source": [
    "a_bool = True # or False"
   ]
  },
  {
   "cell_type": "code",
   "execution_count": 24,
   "id": "e123ba66-0b4f-48f9-9005-5b07499d51a2",
   "metadata": {},
   "outputs": [
    {
     "data": {
      "text/plain": [
       "bool"
      ]
     },
     "execution_count": 24,
     "metadata": {},
     "output_type": "execute_result"
    }
   ],
   "source": [
    "type(a_bool)"
   ]
  },
  {
   "cell_type": "markdown",
   "id": "7966f756-38cb-4e86-b86d-a6eb445c8e43",
   "metadata": {
    "pycharm": {
     "name": "#%% md\n"
    }
   },
   "source": [
    "How about text? there is also a specific data type for text objects. Text objects in programming are called `string`, and so they are of type `string`"
   ]
  },
  {
   "cell_type": "code",
   "execution_count": 25,
   "id": "93d73c9b-6989-4630-af16-7bc97126d55a",
   "metadata": {
    "pycharm": {
     "name": "#%%\n"
    }
   },
   "outputs": [],
   "source": [
    "a_str = \"Hello everybody!\""
   ]
  },
  {
   "cell_type": "code",
   "execution_count": 26,
   "id": "d21ce9f1-ea81-46fd-9f3e-dbfa5cf50f75",
   "metadata": {
    "pycharm": {
     "name": "#%%\n"
    }
   },
   "outputs": [
    {
     "data": {
      "text/plain": [
       "str"
      ]
     },
     "execution_count": 26,
     "metadata": {},
     "output_type": "execute_result"
    }
   ],
   "source": [
    "type(a_str)"
   ]
  },
  {
   "cell_type": "code",
   "execution_count": 37,
   "id": "bdb699d9-1bd9-406e-9086-fc7e2ec08df7",
   "metadata": {},
   "outputs": [
    {
     "data": {
      "text/plain": [
       "\u001B[0;31mSignature:\u001B[0m \u001B[0mstr\u001B[0m\u001B[0;34m.\u001B[0m\u001B[0mpartition\u001B[0m\u001B[0;34m(\u001B[0m\u001B[0mself\u001B[0m\u001B[0;34m,\u001B[0m \u001B[0msep\u001B[0m\u001B[0;34m,\u001B[0m \u001B[0;34m/\u001B[0m\u001B[0;34m)\u001B[0m\u001B[0;34m\u001B[0m\u001B[0;34m\u001B[0m\u001B[0m\n",
       "\u001B[0;31mDocstring:\u001B[0m\n",
       "Partition the string into three parts using the given separator.\n",
       "\n",
       "This will search for the separator in the string.  If the separator is found,\n",
       "returns a 3-tuple containing the part before the separator, the separator\n",
       "itself, and the part after it.\n",
       "\n",
       "If the separator is not found, returns a 3-tuple containing the original string\n",
       "and two empty strings.\n",
       "\u001B[0;31mType:\u001B[0m      method_descriptor\n"
      ]
     },
     "metadata": {},
     "output_type": "display_data"
    }
   ],
   "source": [
    "str.partition?"
   ]
  },
  {
   "cell_type": "markdown",
   "id": "548d4598-3901-4010-a847-df54b3f872b8",
   "metadata": {
    "pycharm": {
     "name": "#%% md\n"
    }
   },
   "source": [
    "### Collection of values"
   ]
  },
  {
   "cell_type": "markdown",
   "id": "57db85a8-52b0-42b4-8dba-1983217e2432",
   "metadata": {
    "pycharm": {
     "name": "#%% md\n"
    }
   },
   "source": [
    "So far we talked about data types that represent a single value, be it a number or a text. What if we want to represent a colleciton of values?\n",
    "\n",
    "Python offers several datatypes for this purpose:\n",
    "- tuple\n",
    "- list"
   ]
  },
  {
   "cell_type": "code",
   "execution_count": 31,
   "id": "c42890ab-f725-4569-bbe4-2be9842269a8",
   "metadata": {},
   "outputs": [],
   "source": [
    "a_tuple = (1, 2, 3, 4)\n",
    "a_list = [1, 2, 3, 4]"
   ]
  },
  {
   "cell_type": "code",
   "execution_count": 32,
   "id": "a15cde88-8e55-4e7d-bc52-86aabb45b2d6",
   "metadata": {},
   "outputs": [
    {
     "data": {
      "text/plain": [
       "(1, 2, 3, 4)"
      ]
     },
     "execution_count": 32,
     "metadata": {},
     "output_type": "execute_result"
    }
   ],
   "source": [
    "a_tuple"
   ]
  },
  {
   "cell_type": "code",
   "execution_count": 33,
   "id": "74e58a84-425e-4604-92f2-63efcbe9578c",
   "metadata": {},
   "outputs": [
    {
     "data": {
      "text/plain": [
       "[1, 2, 3, 4]"
      ]
     },
     "execution_count": 33,
     "metadata": {},
     "output_type": "execute_result"
    }
   ],
   "source": [
    "a_list"
   ]
  },
  {
   "cell_type": "code",
   "execution_count": 34,
   "id": "dd044f9e-e75f-4123-95d7-f367773e0b8c",
   "metadata": {
    "pycharm": {
     "name": "#%%\n"
    }
   },
   "outputs": [
    {
     "data": {
      "text/plain": [
       "tuple"
      ]
     },
     "execution_count": 34,
     "metadata": {},
     "output_type": "execute_result"
    }
   ],
   "source": [
    "type(a_tuple)"
   ]
  },
  {
   "cell_type": "code",
   "execution_count": 35,
   "id": "091474b7-a94c-45ee-961a-f8ceaa306dda",
   "metadata": {
    "pycharm": {
     "name": "#%%\n"
    }
   },
   "outputs": [
    {
     "data": {
      "text/plain": [
       "list"
      ]
     },
     "execution_count": 35,
     "metadata": {},
     "output_type": "execute_result"
    }
   ],
   "source": [
    "type(a_list)"
   ]
  },
  {
   "cell_type": "markdown",
   "id": "570f91a8-e7ea-4a07-b52d-da7d9de9c0ff",
   "metadata": {
    "pycharm": {
     "name": "#%% md\n"
    }
   },
   "source": [
    "## Indexing and Slicing"
   ]
  },
  {
   "cell_type": "markdown",
   "id": "110a4c8a-6cfb-4225-9035-be4ef5bed330",
   "metadata": {
    "pycharm": {
     "name": "#%% md\n"
    }
   },
   "source": [
    "How do we access the elements of these collection? We use indexing.\n",
    "\n",
    "We can refer to each element in a tuple or a list by their corresponding index. Python as opposed to Matlab, is a 0-indexed language, that is its first index is 0. So to refer to the first element, we use index 0\n",
    "\n",
    "Another point for Matlab users is that we use square brackets for indexing and not round brackets as in Matlab."
   ]
  },
  {
   "cell_type": "code",
   "execution_count": 39,
   "id": "ae453110-6a95-4490-b1e4-2d7d2d529e89",
   "metadata": {},
   "outputs": [
    {
     "data": {
      "text/plain": [
       "1"
      ]
     },
     "execution_count": 39,
     "metadata": {},
     "output_type": "execute_result"
    }
   ],
   "source": [
    "a_tuple[0]"
   ]
  },
  {
   "cell_type": "code",
   "execution_count": 40,
   "id": "dc2d9d82-232f-4571-bf4e-bd51e1cc91b3",
   "metadata": {
    "pycharm": {
     "name": "#%%\n"
    }
   },
   "outputs": [
    {
     "data": {
      "text/plain": [
       "1"
      ]
     },
     "execution_count": 40,
     "metadata": {},
     "output_type": "execute_result"
    }
   ],
   "source": [
    "a_list[0]"
   ]
  },
  {
   "cell_type": "code",
   "execution_count": 41,
   "id": "8097c544-2972-4800-a3b1-931d05143cc7",
   "metadata": {
    "pycharm": {
     "name": "#%%\n"
    }
   },
   "outputs": [
    {
     "data": {
      "text/plain": [
       "4"
      ]
     },
     "execution_count": 41,
     "metadata": {},
     "output_type": "execute_result"
    }
   ],
   "source": [
    "a_list[3]"
   ]
  },
  {
   "cell_type": "markdown",
   "id": "bc452817-aebf-4e7b-add8-6853d4633232",
   "metadata": {
    "pycharm": {
     "name": "#%% md\n"
    }
   },
   "source": [
    "But there is more into indexing"
   ]
  },
  {
   "cell_type": "markdown",
   "id": "5dc603a7-6830-46d3-897b-34eaffb72ade",
   "metadata": {
    "pycharm": {
     "name": "#%% md\n"
    }
   },
   "source": [
    "We can get several elements by specifying the range of the indices:"
   ]
  },
  {
   "cell_type": "code",
   "execution_count": 42,
   "id": "f8a83120-b953-44dd-8647-59b518820f99",
   "metadata": {
    "pycharm": {
     "name": "#%%\n"
    }
   },
   "outputs": [
    {
     "data": {
      "text/plain": [
       "[1, 2, 3, 4]"
      ]
     },
     "execution_count": 42,
     "metadata": {},
     "output_type": "execute_result"
    }
   ],
   "source": [
    "a_list"
   ]
  },
  {
   "cell_type": "code",
   "execution_count": 50,
   "id": "92a2a5c8-4592-406b-aa41-9a4a43d768c3",
   "metadata": {},
   "outputs": [
    {
     "data": {
      "text/plain": [
       "[1, 2, 3, 4]"
      ]
     },
     "execution_count": 50,
     "metadata": {},
     "output_type": "execute_result"
    }
   ],
   "source": [
    "a_list[0:5]"
   ]
  },
  {
   "cell_type": "markdown",
   "id": "03093151-3242-4840-b374-009220f21572",
   "metadata": {},
   "source": [
    "**Note** that the lower bound is included but not upper bound of the range i.e., `a_list[3]` is not in the output.\n",
    "\n",
    "What else we may wanna do? We may wanna skip elements? maybe we want to get every second element?"
   ]
  },
  {
   "cell_type": "code",
   "execution_count": 54,
   "id": "39b1d0e7-71bb-4bca-9944-4136fbd6d19b",
   "metadata": {},
   "outputs": [
    {
     "data": {
      "text/plain": [
       "[1, 2, 3, 4]"
      ]
     },
     "execution_count": 54,
     "metadata": {},
     "output_type": "execute_result"
    }
   ],
   "source": [
    "a_list[0:4:1] # by default this is 1"
   ]
  },
  {
   "cell_type": "markdown",
   "id": "31aaf0e5-40da-4ea4-ac6d-5a2d55bd427c",
   "metadata": {},
   "source": [
    "Python also accepts -ve index. And we can think about it this way.. if the first element from left is 0, then if go into the -ve values, we will basically go to the other side.. so -1 will be .... ? - the last element!"
   ]
  },
  {
   "cell_type": "code",
   "execution_count": 57,
   "id": "77b86a11-f7c9-4a74-99a1-9d12358996c3",
   "metadata": {
    "pycharm": {
     "name": "#%%\n"
    }
   },
   "outputs": [
    {
     "data": {
      "text/plain": [
       "3"
      ]
     },
     "execution_count": 57,
     "metadata": {},
     "output_type": "execute_result"
    }
   ],
   "source": [
    "a_tuple[-2]"
   ]
  },
  {
   "cell_type": "markdown",
   "id": "c3965d97-8422-416d-914e-bbd7fbfc1e45",
   "metadata": {},
   "source": [
    "This can actually be helpfu, if one does not really care about the length of the data (or does not know it) but they want to do some operation on the last element..\n",
    "\n",
    "Here is the summary of indexing and slicing (index a range)"
   ]
  },
  {
   "cell_type": "markdown",
   "id": "0d5f669e-2b19-4e56-843c-4e86278b06f7",
   "metadata": {},
   "source": [
    "<center>\n",
    "    <img src=\"indexing.png\" width=\"50%\" height=\"50%\"/>\n",
    "</center>"
   ]
  },
  {
   "cell_type": "markdown",
   "id": "5f5ea52e-dadd-4238-bd0a-449511fd8d79",
   "metadata": {},
   "source": [
    "Alright, so those are some stuff about Python data types, and how to index collections (list and tuple)."
   ]
  },
  {
   "cell_type": "markdown",
   "id": "38ef892f-9c3d-4c55-aa7e-feffe13d4938",
   "metadata": {},
   "source": [
    "Now I wanna answer some questions that might pop up:"
   ]
  },
  {
   "cell_type": "code",
   "execution_count": 60,
   "id": "9de9c209-9a33-4f36-a6b8-11bdb40544ff",
   "metadata": {},
   "outputs": [
    {
     "name": "stdout",
     "output_type": "stream",
     "text": [
      "[1, 10, 3, 4]\n"
     ]
    }
   ],
   "source": [
    "a_list[1]=10\n",
    "print(a_list)"
   ]
  },
  {
   "cell_type": "code",
   "execution_count": 61,
   "id": "928c12b1-8acb-4a36-b151-1b28e6a5367b",
   "metadata": {},
   "outputs": [
    {
     "ename": "TypeError",
     "evalue": "'tuple' object does not support item assignment",
     "output_type": "error",
     "traceback": [
      "\u001B[0;31m---------------------------------------------------------------------------\u001B[0m",
      "\u001B[0;31mTypeError\u001B[0m                                 Traceback (most recent call last)",
      "\u001B[0;32m<ipython-input-61-e14bdea6167d>\u001B[0m in \u001B[0;36m<module>\u001B[0;34m\u001B[0m\n\u001B[0;32m----> 1\u001B[0;31m \u001B[0ma_tuple\u001B[0m\u001B[0;34m[\u001B[0m\u001B[0;36m1\u001B[0m\u001B[0;34m]\u001B[0m\u001B[0;34m=\u001B[0m\u001B[0;36m10\u001B[0m\u001B[0;34m\u001B[0m\u001B[0;34m\u001B[0m\u001B[0m\n\u001B[0m\u001B[1;32m      2\u001B[0m \u001B[0mprint\u001B[0m\u001B[0;34m(\u001B[0m\u001B[0ma_list\u001B[0m\u001B[0;34m)\u001B[0m\u001B[0;34m\u001B[0m\u001B[0;34m\u001B[0m\u001B[0m\n",
      "\u001B[0;31mTypeError\u001B[0m: 'tuple' object does not support item assignment"
     ]
    }
   ],
   "source": [
    "a_tuple[1]=10\n",
    "print(a_list)"
   ]
  },
  {
   "cell_type": "markdown",
   "id": "415423a2-56ac-4281-92ce-b480ea915307",
   "metadata": {},
   "source": [
    "### What is the difference between these two?\n",
    "\n",
    "A list is mutable and a tuple is immutable - that is we can change the elements of a list, but not a tuple!\n",
    "\n",
    "## Exercise #2"
   ]
  },
  {
   "cell_type": "markdown",
   "id": "b85b80fe-71a3-469b-89e4-79295541fda3",
   "metadata": {
    "pycharm": {
     "name": "#%% md\n"
    }
   },
   "source": [
    "---"
   ]
  },
  {
   "cell_type": "markdown",
   "id": "752106c2-2aa3-4059-bfa5-f8ae2a23346d",
   "metadata": {
    "pycharm": {
     "name": "#%% md\n"
    }
   },
   "source": [
    "### Python is a \"Dynamically Typed\" language\n",
    "\n",
    "The next question is: can we turn a variable into another after it's been created? yes of course!\n",
    "\n",
    "Python is a \"Dynamically Typed\" language!\n",
    "This means that, unlike in some other languages, you can change the type of a variable at any time you wish, also known as **type casting**."
   ]
  },
  {
   "cell_type": "code",
   "execution_count": 62,
   "id": "8b901b94-beff-499d-a3eb-4ebb4794d848",
   "metadata": {},
   "outputs": [],
   "source": [
    "a_int = 11\n",
    "b_float = 2.5"
   ]
  },
  {
   "cell_type": "code",
   "execution_count": 63,
   "id": "79513d19-f777-410d-9db8-0c3d1a56fc5f",
   "metadata": {},
   "outputs": [
    {
     "data": {
      "text/plain": [
       "(11, 2.5)"
      ]
     },
     "execution_count": 63,
     "metadata": {},
     "output_type": "execute_result"
    }
   ],
   "source": [
    "a_int, b_float"
   ]
  },
  {
   "cell_type": "code",
   "execution_count": 65,
   "id": "fcf35998-abc6-412b-af3b-99a88c3761e5",
   "metadata": {
    "pycharm": {
     "name": "#%%\n"
    }
   },
   "outputs": [
    {
     "data": {
      "text/plain": [
       "11.0"
      ]
     },
     "execution_count": 65,
     "metadata": {},
     "output_type": "execute_result"
    }
   ],
   "source": [
    "a_float = float(a_int)\n",
    "a_float"
   ]
  },
  {
   "cell_type": "code",
   "execution_count": 66,
   "id": "a058576b-e826-47b7-9f72-a82861cc6c80",
   "metadata": {},
   "outputs": [
    {
     "data": {
      "text/plain": [
       "float"
      ]
     },
     "execution_count": 66,
     "metadata": {},
     "output_type": "execute_result"
    }
   ],
   "source": [
    "type(a_float)"
   ]
  },
  {
   "cell_type": "code",
   "execution_count": 68,
   "id": "85db6726-8c4b-4cfb-af1a-979d9525eff8",
   "metadata": {},
   "outputs": [
    {
     "data": {
      "text/plain": [
       "11"
      ]
     },
     "execution_count": 68,
     "metadata": {},
     "output_type": "execute_result"
    }
   ],
   "source": [
    "int(a_float)"
   ]
  },
  {
   "cell_type": "code",
   "execution_count": 69,
   "id": "e8a362c0-0c7c-4ffa-9de3-48fc2edcd563",
   "metadata": {},
   "outputs": [
    {
     "data": {
      "text/plain": [
       "int"
      ]
     },
     "execution_count": 69,
     "metadata": {},
     "output_type": "execute_result"
    }
   ],
   "source": [
    "type(int(a_float))"
   ]
  },
  {
   "cell_type": "code",
   "execution_count": 71,
   "id": "a317e5e8-cceb-481e-937b-0ecda54b418e",
   "metadata": {},
   "outputs": [],
   "source": [
    "a_float = int(a_float)"
   ]
  },
  {
   "cell_type": "code",
   "execution_count": 73,
   "id": "ec280d9b-c9c0-4e07-b289-da16633a31e7",
   "metadata": {},
   "outputs": [
    {
     "data": {
      "text/plain": [
       "int"
      ]
     },
     "execution_count": 73,
     "metadata": {},
     "output_type": "execute_result"
    }
   ],
   "source": [
    "type(a_float)"
   ]
  },
  {
   "cell_type": "markdown",
   "id": "de4e5cea-497b-40ce-8000-96689a6de44e",
   "metadata": {
    "pycharm": {
     "name": "#%% md\n"
    }
   },
   "source": [
    "What about collections?"
   ]
  },
  {
   "cell_type": "code",
   "execution_count": 74,
   "id": "ee792c94-8c90-42bc-918e-af8858fc6cff",
   "metadata": {},
   "outputs": [],
   "source": [
    "a_list = [1, 2, 3, 4]"
   ]
  },
  {
   "cell_type": "code",
   "execution_count": 75,
   "id": "5d9d72a2-4e60-4972-b13e-5fc72497ff72",
   "metadata": {
    "pycharm": {
     "name": "#%%\n"
    }
   },
   "outputs": [
    {
     "data": {
      "text/plain": [
       "(1, 2, 3, 4)"
      ]
     },
     "execution_count": 75,
     "metadata": {},
     "output_type": "execute_result"
    }
   ],
   "source": [
    "tuple(a_list)"
   ]
  },
  {
   "cell_type": "code",
   "execution_count": 76,
   "id": "40583c7d-4e30-46c3-a61b-862e19394559",
   "metadata": {
    "pycharm": {
     "name": "#%%\n"
    },
    "slideshow": {
     "slide_type": "subslide"
    }
   },
   "outputs": [
    {
     "data": {
      "text/plain": [
       "(list, tuple)"
      ]
     },
     "execution_count": 76,
     "metadata": {},
     "output_type": "execute_result"
    }
   ],
   "source": [
    "type(a_list), type(tuple(a_list))"
   ]
  },
  {
   "cell_type": "markdown",
   "id": "b8d0a582-7cd7-403d-b10f-f8b7f8292192",
   "metadata": {
    "pycharm": {
     "name": "#%% md\n"
    },
    "slideshow": {
     "slide_type": "fragment"
    }
   },
   "source": [
    "### Boolean representation of other data types?"
   ]
  },
  {
   "cell_type": "markdown",
   "id": "b7370fab-1e3a-4788-ba03-5b3a05a32773",
   "metadata": {
    "pycharm": {
     "name": "#%% md\n"
    },
    "slideshow": {
     "slide_type": "fragment"
    }
   },
   "source": [
    "We all know a boolean can only be either `True` or `False`.\n",
    "So what would happen if we change the type of the other data types into boolean?\n",
    "\n",
    "well, here is the rule: 0 and Empty are False, all else are True"
   ]
  },
  {
   "cell_type": "code",
   "execution_count": 77,
   "id": "f680bfd9-dcfa-48cf-9a4c-cc953867e344",
   "metadata": {},
   "outputs": [
    {
     "data": {
      "text/plain": [
       "True"
      ]
     },
     "execution_count": 77,
     "metadata": {},
     "output_type": "execute_result"
    }
   ],
   "source": [
    "bool(3)\n",
    "bool(-4.2)\n",
    "bool(\"ha\")\n",
    "bool(['a', 'b', 'c'])"
   ]
  },
  {
   "cell_type": "code",
   "execution_count": 91,
   "id": "6a7322ea-ee0b-46da-b63d-c247c3943474",
   "metadata": {},
   "outputs": [
    {
     "name": "stdout",
     "output_type": "stream",
     "text": [
      "[]\n"
     ]
    }
   ],
   "source": [
    "my_list =[]\n",
    "print(my_list)"
   ]
  },
  {
   "cell_type": "code",
   "execution_count": 92,
   "id": "73b7d53f-5245-4a28-8738-5845934ef586",
   "metadata": {},
   "outputs": [
    {
     "data": {
      "text/plain": [
       "False"
      ]
     },
     "execution_count": 92,
     "metadata": {},
     "output_type": "execute_result"
    }
   ],
   "source": [
    "bool(my_list)"
   ]
  },
  {
   "cell_type": "code",
   "execution_count": 93,
   "id": "986ef0a1-7cf5-434b-be61-30b34e66f6b2",
   "metadata": {},
   "outputs": [
    {
     "data": {
      "text/plain": [
       "False"
      ]
     },
     "execution_count": 93,
     "metadata": {},
     "output_type": "execute_result"
    }
   ],
   "source": [
    "bool(0)\n",
    "bool(0.0)\n",
    "bool('')\n",
    "bool([])\n"
   ]
  },
  {
   "cell_type": "code",
   "execution_count": 94,
   "id": "7a54cfc6-f665-44b9-9352-e51ead20aa7e",
   "metadata": {},
   "outputs": [
    {
     "data": {
      "text/plain": [
       "True"
      ]
     },
     "execution_count": 94,
     "metadata": {},
     "output_type": "execute_result"
    }
   ],
   "source": [
    "bool(2)"
   ]
  },
  {
   "cell_type": "code",
   "execution_count": 95,
   "id": "4e4422f4-830c-46d0-8b79-6d7a6f64d3d1",
   "metadata": {},
   "outputs": [
    {
     "data": {
      "text/plain": [
       "False"
      ]
     },
     "execution_count": 95,
     "metadata": {},
     "output_type": "execute_result"
    }
   ],
   "source": [
    "bool(0)"
   ]
  },
  {
   "cell_type": "code",
   "execution_count": 96,
   "id": "8abb1496-9b15-48c5-8da9-9663a50e3a4a",
   "metadata": {},
   "outputs": [
    {
     "data": {
      "text/plain": [
       "True"
      ]
     },
     "execution_count": 96,
     "metadata": {},
     "output_type": "execute_result"
    }
   ],
   "source": [
    "bool(\"hi\")"
   ]
  },
  {
   "cell_type": "code",
   "execution_count": 97,
   "id": "5e10c239-7b08-4b52-b196-b90c6668ca0d",
   "metadata": {},
   "outputs": [
    {
     "data": {
      "text/plain": [
       "False"
      ]
     },
     "execution_count": 97,
     "metadata": {},
     "output_type": "execute_result"
    }
   ],
   "source": [
    "bool(\"\")"
   ]
  },
  {
   "cell_type": "code",
   "execution_count": 98,
   "id": "58945f70-d444-4152-9045-d5c81fabf8c6",
   "metadata": {
    "pycharm": {
     "name": "#%%\n"
    }
   },
   "outputs": [
    {
     "data": {
      "text/plain": [
       "True"
      ]
     },
     "execution_count": 98,
     "metadata": {},
     "output_type": "execute_result"
    }
   ],
   "source": [
    "bool([1, 2])"
   ]
  },
  {
   "cell_type": "code",
   "execution_count": 99,
   "id": "2fdb373b-d71a-4aeb-a4dc-7084d2f48395",
   "metadata": {},
   "outputs": [
    {
     "data": {
      "text/plain": [
       "False"
      ]
     },
     "execution_count": 99,
     "metadata": {},
     "output_type": "execute_result"
    }
   ],
   "source": [
    "bool([])"
   ]
  },
  {
   "cell_type": "markdown",
   "id": "a4bdfbbb-f0d1-4ede-a1bf-79dd0f41e555",
   "metadata": {
    "pycharm": {
     "name": "#%% md\n"
    }
   },
   "source": [
    "## Arithmetic Operations (ex: +, -, /, *)"
   ]
  },
  {
   "cell_type": "code",
   "execution_count": 100,
   "id": "1b356e00-23c9-403f-ad0a-0cc25d0ec9bc",
   "metadata": {
    "pycharm": {
     "name": "#%%\n"
    }
   },
   "outputs": [
    {
     "data": {
      "text/plain": [
       "4"
      ]
     },
     "execution_count": 100,
     "metadata": {},
     "output_type": "execute_result"
    }
   ],
   "source": [
    "2 + 2"
   ]
  },
  {
   "cell_type": "code",
   "execution_count": 101,
   "id": "0cbcd7d9-33ef-49a0-9cda-eff64ebeb497",
   "metadata": {},
   "outputs": [
    {
     "data": {
      "text/plain": [
       "4.0"
      ]
     },
     "execution_count": 101,
     "metadata": {},
     "output_type": "execute_result"
    }
   ],
   "source": [
    "2 * 2."
   ]
  },
  {
   "cell_type": "markdown",
   "id": "1c2a8231-141a-4598-a584-f3a83874df17",
   "metadata": {},
   "source": [
    "Note that arithmetics between collections and single values does not always work. For example, if we wanted to increase every element of a lits by 2, we probably would:"
   ]
  },
  {
   "cell_type": "code",
   "execution_count": 102,
   "id": "ab3d331e-5cf7-4961-95f5-a425d18c04ee",
   "metadata": {},
   "outputs": [
    {
     "ename": "TypeError",
     "evalue": "can only concatenate list (not \"int\") to list",
     "output_type": "error",
     "traceback": [
      "\u001B[0;31m---------------------------------------------------------------------------\u001B[0m",
      "\u001B[0;31mTypeError\u001B[0m                                 Traceback (most recent call last)",
      "\u001B[0;32m<ipython-input-102-33075c4f01e1>\u001B[0m in \u001B[0;36m<module>\u001B[0;34m\u001B[0m\n\u001B[0;32m----> 1\u001B[0;31m \u001B[0;34m[\u001B[0m\u001B[0;36m1\u001B[0m\u001B[0;34m,\u001B[0m \u001B[0;36m2\u001B[0m\u001B[0;34m]\u001B[0m \u001B[0;34m+\u001B[0m \u001B[0;36m2\u001B[0m\u001B[0;34m\u001B[0m\u001B[0;34m\u001B[0m\u001B[0m\n\u001B[0m",
      "\u001B[0;31mTypeError\u001B[0m: can only concatenate list (not \"int\") to list"
     ]
    }
   ],
   "source": [
    "[1, 2] + 2"
   ]
  },
  {
   "cell_type": "markdown",
   "id": "bd5379c8-2308-44d2-b12c-61040d4c7d2c",
   "metadata": {
    "pycharm": {
     "name": "#%% md\n"
    }
   },
   "source": [
    "But no, we have to do it element-wise, which requires us to iterate through the list, and we will learn that later in the day.\n",
    "\n",
    "How about this?"
   ]
  },
  {
   "cell_type": "code",
   "execution_count": 103,
   "id": "fa86564e-a464-41df-9c23-af0178180646",
   "metadata": {},
   "outputs": [
    {
     "data": {
      "text/plain": [
       "[1, 2, 1, 2]"
      ]
     },
     "execution_count": 103,
     "metadata": {},
     "output_type": "execute_result"
    }
   ],
   "source": [
    "[1, 2] + [1, 2]"
   ]
  },
  {
   "cell_type": "code",
   "execution_count": 104,
   "id": "8cf90493-cd87-4d4b-93c5-644ef421bdcd",
   "metadata": {
    "pycharm": {
     "name": "#%%\n"
    }
   },
   "outputs": [
    {
     "data": {
      "text/plain": [
       "[1, 2, 1, 2]"
      ]
     },
     "execution_count": 104,
     "metadata": {},
     "output_type": "execute_result"
    }
   ],
   "source": [
    "[1, 2] * 2"
   ]
  },
  {
   "cell_type": "code",
   "execution_count": 106,
   "id": "2ade9d05-acdb-484d-9f7c-166fa4826d87",
   "metadata": {
    "pycharm": {
     "name": "#%%\n"
    }
   },
   "outputs": [
    {
     "data": {
      "text/plain": [
       "'HiHiHiHiHiHiHiHiHiHiHiHiHiHiHiHiHiHiHiHiHiHiHiHiHiHiHiHiHiHiHiHiHiHiHiHiHiHiHiHiHiHiHiHiHiHiHiHiHiHiHiHiHiHiHiHiHiHiHiHiHiHiHiHiHiHiHiHiHiHiHiHiHiHiHiHiHiHiHiHiHiHiHiHiHiHiHiHiHiHiHiHiHiHiHiHiHiHiHiHi'"
      ]
     },
     "execution_count": 106,
     "metadata": {},
     "output_type": "execute_result"
    }
   ],
   "source": [
    "\"Hi\" * 100"
   ]
  },
  {
   "cell_type": "markdown",
   "id": "169f5e3c-c516-4a41-9d2d-859cb604de71",
   "metadata": {
    "slideshow": {
     "slide_type": "slide"
    }
   },
   "source": [
    "## Exercise #3"
   ]
  },
  {
   "cell_type": "markdown",
   "id": "d4a037d6-8713-4c37-b387-9e022c47c913",
   "metadata": {
    "slideshow": {
     "slide_type": "subslide"
    }
   },
   "source": [
    "---"
   ]
  },
  {
   "cell_type": "markdown",
   "id": "a23aa6a4-51b2-4ec3-8b4f-a2124d4b029b",
   "metadata": {
    "pycharm": {
     "name": "#%% md\n"
    },
    "slideshow": {
     "slide_type": "fragment"
    }
   },
   "source": [
    "## Advanced Features"
   ]
  },
  {
   "cell_type": "markdown",
   "id": "8c291292-e0f0-4d25-8d09-cb58fe137b2f",
   "metadata": {
    "slideshow": {
     "slide_type": "subslide"
    }
   },
   "source": [
    "### Tuple Unpacking"
   ]
  },
  {
   "cell_type": "code",
   "execution_count": 114,
   "id": "92cb5421-bb96-4da4-b16b-84f108c17195",
   "metadata": {
    "slideshow": {
     "slide_type": "fragment"
    }
   },
   "outputs": [],
   "source": [
    "a, b, c = (1, (3, 5), ['str'])\n"
   ]
  },
  {
   "cell_type": "code",
   "execution_count": 115,
   "id": "5f9e282f-4bf9-49c2-9dd3-26c274fcc5bc",
   "metadata": {},
   "outputs": [
    {
     "name": "stdout",
     "output_type": "stream",
     "text": [
      "1 (3, 5) ['str']\n"
     ]
    }
   ],
   "source": [
    "print(a,b,c )"
   ]
  },
  {
   "cell_type": "markdown",
   "id": "1722d3c8-f8e4-4e7c-8143-e123d683fe4c",
   "metadata": {
    "pycharm": {
     "name": "#%% md\n"
    }
   },
   "source": [
    "### Assignment with Operators"
   ]
  },
  {
   "cell_type": "code",
   "execution_count": 116,
   "id": "ca39135c-f99d-4a8f-aa02-4be0bdfde1fa",
   "metadata": {
    "pycharm": {
     "name": "#%%\n"
    }
   },
   "outputs": [
    {
     "data": {
      "text/plain": [
       "7"
      ]
     },
     "execution_count": 116,
     "metadata": {},
     "output_type": "execute_result"
    }
   ],
   "source": [
    "a = 5\n",
    "a = a + 2\n",
    "a"
   ]
  },
  {
   "cell_type": "code",
   "execution_count": 119,
   "id": "a7a207fd-1d26-4785-9c10-d24363f4e15f",
   "metadata": {
    "pycharm": {
     "name": "#%%\n"
    }
   },
   "outputs": [
    {
     "data": {
      "text/plain": [
       "32"
      ]
     },
     "execution_count": 119,
     "metadata": {},
     "output_type": "execute_result"
    }
   ],
   "source": [
    "a *= 2\n",
    "a"
   ]
  },
  {
   "cell_type": "code",
   "execution_count": null,
   "id": "dcc7ae47-78e3-46db-9be3-61fb418e658f",
   "metadata": {},
   "outputs": [],
   "source": []
  },
  {
   "cell_type": "markdown",
   "id": "a16b70a4-3e16-4b9f-a403-4a2f60baafaa",
   "metadata": {},
   "source": [
    "---"
   ]
  },
  {
   "cell_type": "markdown",
   "id": "f9e7e1b7-b9d4-48c4-af02-571cc57ba044",
   "metadata": {
    "pycharm": {
     "name": "#%% md\n"
    }
   },
   "source": [
    "## Numpy"
   ]
  },
  {
   "cell_type": "markdown",
   "id": "2b6f81df-54af-4ddd-a06e-3d0fff2404b5",
   "metadata": {},
   "source": [
    "NumPy is the fundamental package for scientific computing in Python. It basically provides us with a new datatype (Numpy array) with which we can do many stuff using functions that comes with Numpy and Numpy array object.\n",
    "\n",
    "let me show you a quick demo so we can see the power of Numpy arrays.\n",
    "\n",
    "remember that we could not increase every elemnt of our list by 2, simply by adding 2 to the list?"
   ]
  },
  {
   "cell_type": "code",
   "execution_count": 120,
   "id": "90f2a4a7-6cae-49d2-b25e-89b91b973c2d",
   "metadata": {},
   "outputs": [
    {
     "ename": "TypeError",
     "evalue": "can only concatenate list (not \"int\") to list",
     "output_type": "error",
     "traceback": [
      "\u001B[0;31m---------------------------------------------------------------------------\u001B[0m",
      "\u001B[0;31mTypeError\u001B[0m                                 Traceback (most recent call last)",
      "\u001B[0;32m<ipython-input-120-f0850d64d959>\u001B[0m in \u001B[0;36m<module>\u001B[0;34m\u001B[0m\n\u001B[1;32m      1\u001B[0m \u001B[0ma_list\u001B[0m \u001B[0;34m=\u001B[0m \u001B[0;34m[\u001B[0m\u001B[0;36m1\u001B[0m\u001B[0;34m,\u001B[0m \u001B[0;36m2\u001B[0m\u001B[0;34m,\u001B[0m \u001B[0;36m3\u001B[0m\u001B[0;34m,\u001B[0m \u001B[0;36m4\u001B[0m\u001B[0;34m]\u001B[0m\u001B[0;34m\u001B[0m\u001B[0;34m\u001B[0m\u001B[0m\n\u001B[0;32m----> 2\u001B[0;31m \u001B[0ma_list\u001B[0m \u001B[0;34m+\u001B[0m \u001B[0;36m2\u001B[0m\u001B[0;34m\u001B[0m\u001B[0;34m\u001B[0m\u001B[0m\n\u001B[0m",
      "\u001B[0;31mTypeError\u001B[0m: can only concatenate list (not \"int\") to list"
     ]
    }
   ],
   "source": [
    "a_list = [1, 2, 3, 4]\n",
    "a_list + 2"
   ]
  },
  {
   "cell_type": "markdown",
   "id": "bc3d72e5-d1af-49eb-ac67-82097db497a1",
   "metadata": {
    "pycharm": {
     "name": "#%% md\n"
    }
   },
   "source": [
    "How about doing the same thing with a numpy array?\n",
    "- import Numpy\n",
    "- create a numpy array\n",
    "- try adding 2 to the array"
   ]
  },
  {
   "cell_type": "code",
   "execution_count": 122,
   "id": "d96e20b3-7bc1-467d-96bc-7c9e9ee4d8f7",
   "metadata": {},
   "outputs": [],
   "source": [
    "import numpy as np"
   ]
  },
  {
   "cell_type": "code",
   "execution_count": null,
   "id": "c68b3f99-a000-40e4-b5d7-8378ec68fe11",
   "metadata": {},
   "outputs": [],
   "source": []
  },
  {
   "cell_type": "code",
   "execution_count": 123,
   "id": "8548e769-2e1b-4b2a-966d-10d5c37dbc9c",
   "metadata": {},
   "outputs": [],
   "source": [
    "a_arr = np.array([1, 2, 3])"
   ]
  },
  {
   "cell_type": "code",
   "execution_count": 124,
   "id": "3bd044e8-c133-4e3b-bb77-2225398ff7f8",
   "metadata": {},
   "outputs": [
    {
     "data": {
      "text/plain": [
       "array([1, 2, 3])"
      ]
     },
     "execution_count": 124,
     "metadata": {},
     "output_type": "execute_result"
    }
   ],
   "source": [
    "a_arr"
   ]
  },
  {
   "cell_type": "code",
   "execution_count": 125,
   "id": "abdaea99-0df5-443b-952b-655cef7d232d",
   "metadata": {},
   "outputs": [
    {
     "data": {
      "text/plain": [
       "numpy.ndarray"
      ]
     },
     "execution_count": 125,
     "metadata": {},
     "output_type": "execute_result"
    }
   ],
   "source": [
    "type(a_arr)"
   ]
  },
  {
   "cell_type": "code",
   "execution_count": 126,
   "id": "0fd105f9-2b71-4037-a1fd-a67bce3909fe",
   "metadata": {
    "pycharm": {
     "name": "#%%\n"
    }
   },
   "outputs": [
    {
     "data": {
      "text/plain": [
       "array([1, 2, 3, 4])"
      ]
     },
     "execution_count": 126,
     "metadata": {},
     "output_type": "execute_result"
    }
   ],
   "source": [
    "a_arr = np.array(a_list)\n",
    "a_arr"
   ]
  },
  {
   "cell_type": "code",
   "execution_count": 129,
   "id": "289ce23f-0a51-48d4-b708-5c55f7a780c9",
   "metadata": {},
   "outputs": [],
   "source": [
    "a_arr += 2"
   ]
  },
  {
   "cell_type": "code",
   "execution_count": 133,
   "id": "79890c5c-e85e-49c0-bf4c-7a2c4e0a7dab",
   "metadata": {},
   "outputs": [
    {
     "data": {
      "text/plain": [
       "array([3.e+10, 4.e+10, 5.e+10, 6.e+10])"
      ]
     },
     "execution_count": 133,
     "metadata": {},
     "output_type": "execute_result"
    }
   ],
   "source": [
    "a_arr*1e10"
   ]
  },
  {
   "cell_type": "code",
   "execution_count": 150,
   "id": "f8fbbcb7-0e55-45c9-96f8-e27dde92bd71",
   "metadata": {
    "pycharm": {
     "name": "#%%\n"
    }
   },
   "outputs": [],
   "source": [
    "new_arr = np.random.randn(1000)"
   ]
  },
  {
   "cell_type": "code",
   "execution_count": 151,
   "id": "acd1f4a6-d849-4fa9-96d9-47d2a76a72bb",
   "metadata": {},
   "outputs": [
    {
     "data": {
      "text/plain": [
       "(1000,)"
      ]
     },
     "execution_count": 151,
     "metadata": {},
     "output_type": "execute_result"
    }
   ],
   "source": [
    "new_arr.shape"
   ]
  },
  {
   "cell_type": "code",
   "execution_count": 148,
   "id": "99e6855a-aa30-443a-958c-7420804c4a7f",
   "metadata": {},
   "outputs": [
    {
     "data": {
      "text/plain": [
       "array([-0.53219376, -0.72260832,  1.41071646, -0.39263234,  0.68314566])"
      ]
     },
     "execution_count": 148,
     "metadata": {},
     "output_type": "execute_result"
    }
   ],
   "source": [
    "new_arr[0,0:5]"
   ]
  },
  {
   "cell_type": "markdown",
   "id": "86cc98f5-1f18-4ac3-954d-bc87ad846e89",
   "metadata": {
    "pycharm": {
     "name": "#%% md\n"
    }
   },
   "source": [
    "## Matplotlib"
   ]
  },
  {
   "cell_type": "code",
   "execution_count": 149,
   "id": "a15b6870-8d8e-424f-80be-301e3cfa7b3e",
   "metadata": {
    "pycharm": {
     "name": "#%%\n"
    }
   },
   "outputs": [],
   "source": [
    "import matplotlib.pyplot as plt"
   ]
  },
  {
   "cell_type": "code",
   "execution_count": 153,
   "id": "aaeac61c-4283-4a8d-820a-65947400f0c6",
   "metadata": {
    "pycharm": {
     "name": "#%%\n"
    }
   },
   "outputs": [
    {
     "data": {
      "image/png": "[encoded data removed]",
      "text/plain": [
       "<Figure size 640x480 with 1 Axes>"
      ]
     },
     "metadata": {},
     "output_type": "display_data"
    }
   ],
   "source": [
    "plt.plot(new_arr)\n",
    "plt.show()"
   ]
  },
  {
   "cell_type": "code",
   "execution_count": 155,
   "id": "32b599bd-4957-47ce-b578-3d56e1a25a0b",
   "metadata": {
    "pycharm": {
     "name": "#%%\n"
    }
   },
   "outputs": [
    {
     "data": {
      "image/png": "[encoded data removed]",
      "text/plain": [
       "<Figure size 640x480 with 1 Axes>"
      ]
     },
     "metadata": {},
     "output_type": "display_data"
    }
   ],
   "source": [
    "plt.plot(np.sort(new_arr))\n",
    "plt.show()"
   ]
  },
  {
   "cell_type": "code",
   "execution_count": 157,
   "id": "20f7a649-6f08-4853-a989-7965a4858830",
   "metadata": {
    "pycharm": {
     "name": "#%%\n"
    }
   },
   "outputs": [
    {
     "data": {
      "image/png": "[encoded data removed]",
      "text/plain": [
       "<Figure size 640x480 with 1 Axes>"
      ]
     },
     "metadata": {},
     "output_type": "display_data"
    }
   ],
   "source": [
    "plt.plot(np.sort(np.random.randn(10000,)))\n",
    "plt.show()"
   ]
  },
  {
   "cell_type": "markdown",
   "id": "eb72584d-8562-4d52-abd7-b04ac535bd09",
   "metadata": {
    "pycharm": {
     "name": "#%% md\n"
    }
   },
   "source": [
    "---"
   ]
  },
  {
   "cell_type": "markdown",
   "id": "f62975db",
   "metadata": {},
   "source": [
    "## Summary of today"
   ]
  },
  {
   "cell_type": "markdown",
   "id": "5b253069",
   "metadata": {},
   "source": [
    "## How does everyone feel about today?"
   ]
  },
  {
   "cell_type": "markdown",
   "id": "663ee691",
   "metadata": {},
   "source": [
    "## What are we gonna do (until) next time?\n",
    "- Check out the exercises, and send them to us if you want feedback\n",
    "- Loops\n",
    "- Dictionaries\n",
    "- Functions\n",
    "- Logical operations and flow control\n",
    "- More Numpy\n",
    "- More Matplotlib\n",
    "- Have fun!"
   ]
  }
 ],
 "metadata": {
  "kernelspec": {
   "display_name": "Python 3",
   "language": "python",
   "name": "python3"
  },
  "language_info": {
   "codemirror_mode": {
    "name": "ipython",
    "version": 3
   },
   "file_extension": ".py",
   "mimetype": "text/x-python",
   "name": "python",
   "nbconvert_exporter": "python",
   "pygments_lexer": "ipython3",
   "version": "3.8.3"
  }
 },
 "nbformat": 4,
 "nbformat_minor": 5
}