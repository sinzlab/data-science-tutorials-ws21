{
 "cells": [
  {
   "cell_type": "markdown",
   "id": "0853c4f4-27ea-4562-88d3-6f33d91f9458",
   "metadata": {},
   "source": [
    "# Exercise 03: Python and Numpy"
   ]
  },
  {
   "cell_type": "markdown",
   "id": "20a1e7aa-8e50-41c3-9320-b3fcf1ce1684",
   "metadata": {},
   "source": [
    "---"
   ]
  },
  {
   "cell_type": "markdown",
   "id": "79eeb2f5-2dbf-4a9c-9485-2770aaabb1fb",
   "metadata": {},
   "source": [
    "## Loops"
   ]
  },
  {
   "cell_type": "markdown",
   "id": "c4f777c9-a865-4e24-9fc4-9b6b6aad35d0",
   "metadata": {},
   "source": [
    "1) Create a list with 5 numerical elements, and print one element at the time."
   ]
  },
  {
   "cell_type": "code",
   "execution_count": null,
   "id": "2688d0a2-9db0-4581-98e8-34bd2e990bf3",
   "metadata": {},
   "outputs": [],
   "source": []
  },
  {
   "cell_type": "markdown",
   "id": "9b1a4248-fd38-479d-9856-9d43092d45cb",
   "metadata": {},
   "source": [
    "2) Increase each element of the list in exercise (1) by 2 and save the values in a new list."
   ]
  },
  {
   "cell_type": "code",
   "execution_count": null,
   "id": "698c0c3e-fd78-4fc5-8b27-ca386f0fd187",
   "metadata": {},
   "outputs": [],
   "source": []
  },
  {
   "cell_type": "markdown",
   "id": "5adddc30-4aa0-4f4e-a01a-61250bb6baca",
   "metadata": {},
   "source": [
    "3) Add the elements of the given two lists and save the results in a new list."
   ]
  },
  {
   "cell_type": "code",
   "execution_count": null,
   "id": "1b4e6ba3-eca9-4691-9f5d-39e988df2196",
   "metadata": {},
   "outputs": [],
   "source": [
    "aa = [1, 2, 3, 4, 5]\n",
    "bb = [10, 20, 30, 40, 50]"
   ]
  },
  {
   "cell_type": "code",
   "execution_count": null,
   "id": "05f897e8-90fe-4d4d-8c48-bab3fb1acfde",
   "metadata": {},
   "outputs": [],
   "source": []
  },
  {
   "cell_type": "markdown",
   "id": "dcbf1a2f-73f4-4dfe-887b-334a908496f1",
   "metadata": {
    "tags": []
   },
   "source": [
    "### enumerate()\n",
    "\n",
    "Sometimes, as we iterate over the elements of a collection (list or tuple), we might also want to have access to a value which informs us about the iteration number. This could also be used as a number to index any other collection within the loop. For this purpose, we use the `enumerate()` function. Here is an example:\n",
    "\n",
    "``` python\n",
    ">>> my_list = [\"str1\", \"str2\", \"str3\", \"str4\"]\n",
    ">>> for ind, el in enumerate(my_list):\n",
    ">>>    print(ind, el)\n",
    "\n",
    ">>> \"0 str1\"\n",
    ">>> \"1 str2\"\n",
    ">>> \"2 str3\"\n",
    ">>> \"3 str4\"\n",
    "```\n",
    "\n",
    "4) Using a loop and the `enumerate()` method, change every element of the list to a string."
   ]
  },
  {
   "cell_type": "code",
   "execution_count": null,
   "id": "fcbc9708-3be0-4e1f-be39-0763f8c12409",
   "metadata": {},
   "outputs": [],
   "source": [
    "my_list = [5, 2, 5]"
   ]
  },
  {
   "cell_type": "code",
   "execution_count": null,
   "id": "55bad8e5-d0fa-44c6-a44d-b2093005f5ab",
   "metadata": {},
   "outputs": [],
   "source": []
  },
  {
   "cell_type": "markdown",
   "id": "efeda8bd-8ed0-41e3-87d2-7389ae01610e",
   "metadata": {},
   "source": [
    "---"
   ]
  },
  {
   "cell_type": "markdown",
   "id": "d5860842-b43c-45df-bc24-374a80521209",
   "metadata": {},
   "source": [
    "## Booleans and control flow"
   ]
  },
  {
   "cell_type": "markdown",
   "id": "ec57134f-84e6-4987-a94d-c8dd1e77aa0b",
   "metadata": {},
   "source": [
    "1) Check the \"**truthness**\" of the following variables/values. (try to guess first)"
   ]
  },
  {
   "cell_type": "code",
   "execution_count": null,
   "id": "709e6b7b-8fef-40d2-8220-b0ef6a500742",
   "metadata": {},
   "outputs": [],
   "source": [
    "a = \" \"\n",
    "b = 0\n",
    "c = []\n",
    "d = [0]"
   ]
  },
  {
   "cell_type": "code",
   "execution_count": null,
   "id": "0382b0c3-0067-4a71-8ab3-53c0c3c1c8d8",
   "metadata": {},
   "outputs": [],
   "source": []
  },
  {
   "cell_type": "markdown",
   "id": "69c7ca3e-e044-4b35-a7c5-3a7dc3656972",
   "metadata": {},
   "source": [
    "2) What is the result of the following logical operation?\n",
    "``` python\n",
    ">>> True and False\n",
    ">>> True or False\n",
    ">>> bool(0) and bool(1)\n",
    ">>> bool(1) or bool(2)\n",
    ">>> bool(0) and bool([0])\n",
    ">>> bool([]) or bool([0])\n",
    "```"
   ]
  },
  {
   "cell_type": "code",
   "execution_count": null,
   "id": "0a589edb-4bcd-4e74-a977-22e0ca4934b2",
   "metadata": {},
   "outputs": [],
   "source": []
  },
  {
   "cell_type": "markdown",
   "id": "15649d01-726f-491a-b144-762be935b2f1",
   "metadata": {},
   "source": [
    "3) You are given two numerical variables, `a` and `b`. Write a code that prints `a is bigger` if a is bigger than b, otherwise prints `a is either equal to or less than b`."
   ]
  },
  {
   "cell_type": "code",
   "execution_count": null,
   "id": "f09e79e8-5b20-4dad-a2db-e34391534bd8",
   "metadata": {},
   "outputs": [],
   "source": [
    "a = 4\n",
    "b = 4"
   ]
  },
  {
   "cell_type": "code",
   "execution_count": null,
   "id": "6468c7c7-60c4-41f1-bcbc-a6fa7a623dc8",
   "metadata": {},
   "outputs": [],
   "source": []
  },
  {
   "cell_type": "markdown",
   "id": "7604247d-db2f-46c7-b677-46fb376e31ce",
   "metadata": {},
   "source": [
    "4) Given the three variables a, b and c. Write a code that:\n",
    "- prints \"a is the biggest\" if a is bigger than both b and c\n",
    "- prints \"a is bigger than one of them\" if a is bigger than b or c\n",
    "- prints \"a is the smallest\" if a is smaller than both b and c"
   ]
  },
  {
   "cell_type": "code",
   "execution_count": null,
   "id": "c4791ac4-9b11-4c28-9e03-4b06eb094ef1",
   "metadata": {},
   "outputs": [],
   "source": [
    "a = 10\n",
    "b = 9\n",
    "c = 18"
   ]
  },
  {
   "cell_type": "code",
   "execution_count": null,
   "id": "c118f3e0-3ca9-4f3f-a825-c1061fa24b80",
   "metadata": {},
   "outputs": [],
   "source": []
  },
  {
   "cell_type": "markdown",
   "id": "720dd764-99f7-4bcb-9b37-5ea6763a52db",
   "metadata": {},
   "source": [
    "5) Implement the following diagram. \"Yes\" corresponds to True, and \"No\" corresponds to False\n",
    "\n",
    "<center>\n",
    "    <img src=\"flow_chart_1.png\" width=\"40%\" height=\"40%\"/>\n",
    "</center> "
   ]
  },
  {
   "cell_type": "code",
   "execution_count": null,
   "id": "b7066143-7eeb-4ac4-b2b6-a9ad8cd9cc54",
   "metadata": {},
   "outputs": [],
   "source": [
    "exercise1_solved = True # feel free to the assigned value\n",
    "exercise2_solved = True # feel free to the assigned value"
   ]
  },
  {
   "cell_type": "code",
   "execution_count": null,
   "id": "c0ebef7a-66cc-48d9-8734-f3312fb6ab3a",
   "metadata": {},
   "outputs": [],
   "source": []
  },
  {
   "cell_type": "markdown",
   "id": "9bae29d0-52e0-4e0b-bd16-454b6ef58bd5",
   "metadata": {},
   "source": [
    "6) Implement the following diagram.\n",
    "<center>\n",
    "    <img src=\"flow_chart_2.png\" width=\"40%\" height=\"40%\"/>\n",
    "</center> "
   ]
  },
  {
   "cell_type": "code",
   "execution_count": null,
   "id": "4616efa0-3ff6-4e7f-b432-32efca30fe1f",
   "metadata": {},
   "outputs": [],
   "source": [
    "score = 91 # feel free to change the score"
   ]
  },
  {
   "cell_type": "code",
   "execution_count": null,
   "id": "5553b2d8-9978-4f5e-b070-db22122cbcd3",
   "metadata": {},
   "outputs": [],
   "source": []
  },
  {
   "cell_type": "markdown",
   "id": "38cee11b-d1d6-4f74-8e66-66e72343cb28",
   "metadata": {},
   "source": [
    "---"
   ]
  },
  {
   "cell_type": "markdown",
   "id": "e75ad27f-27b0-4de5-9aee-a61920d22dfb",
   "metadata": {},
   "source": [
    "## Functions"
   ]
  },
  {
   "cell_type": "markdown",
   "id": "8fd0b79f-9eaf-4096-96c0-7c698761f6db",
   "metadata": {},
   "source": [
    "A function is a block of organized, reusable code that is used to perform a single, related action. Functions provide better modularity for your application and a high degree of code reusing. As you already know, Python gives you many built-in functions like `print()`, `len()`, etc. but you can also create your own functions. These functions are called **user-defined** functions.\n",
    "\n",
    "Here is how to define a function:\n",
    "\n",
    "Function block begins with the keyword `def` followed by the function name and parentheses, `( )`. Any input parameters or arguments should be placed within these parentheses. The code block within every function starts with a colon, `:`, and is indented. The statement `return [expression]` exits a function, optionally passing back a new (transformed) object.\n",
    "\n",
    "Here is an example of a function that get a value, increases it by 2, and returns the value.\n",
    "``` python\n",
    ">>> def add_two(val):\n",
    ">>>     new_val = val + 2\n",
    ">>>     return new_val\n",
    "```"
   ]
  },
  {
   "cell_type": "markdown",
   "id": "f8fe4741-70a8-4142-87dd-ebad32e4eac9",
   "metadata": {},
   "source": [
    "1) Define function that gets a single value as the input and returns a squared version of it. Name the function `square_it`."
   ]
  },
  {
   "cell_type": "code",
   "execution_count": null,
   "id": "af8fb647-a081-49f4-a65a-1edbee0e5d56",
   "metadata": {},
   "outputs": [],
   "source": []
  },
  {
   "cell_type": "markdown",
   "id": "4491221c-ede2-4ba8-be7c-f3c7cc16adac",
   "metadata": {},
   "source": [
    "2) Define a function that accepts two values, and returns the sum of them. Name the function `add_them`."
   ]
  },
  {
   "cell_type": "code",
   "execution_count": null,
   "id": "677c6054-905f-462b-98e2-30a5bcb53274",
   "metadata": {},
   "outputs": [],
   "source": []
  },
  {
   "cell_type": "markdown",
   "id": "453e1342-ace6-4233-8a03-89237a2e8938",
   "metadata": {},
   "source": [
    "Python functions, in general, accept two types of inputs: **positional** and **optional**. **Positional** arguments are arguments that if they are not passed, the function won't work so an error will pop up asking for the missing input - the function defined above as example had a single positional argument. However, sometimes we might want to provide a default value for an input just in case if the user has no idea what value they should assign to this specific variable. This is called an **optional** argument. Providing such optional argument is also helpful in giving the user freedom to be able to make changes to the function, if necessary.\n",
    "\n",
    "Here is an example of a function the raise a given number to a given power. With one required argument (the value) and one optinal argument (the power).\n",
    "``` python\n",
    ">>> def exponent(val, power=2):\n",
    ">>>     new_val = val ** power\n",
    ">>>     return new_val\n",
    "```\n",
    "**Note**: Optional arguments are always placed after the required arguments when defining the function.\n",
    "\n",
    "3) Define a function that accepts two values each as a separate input arguments, one required and one optional. Set the default value of the second input to 1. The fucntion returns the result of the multiplication of the two inputs. Call the function `mult`."
   ]
  },
  {
   "cell_type": "code",
   "execution_count": null,
   "id": "61fadf8f-d48e-43d4-9a67-b588fdad87ca",
   "metadata": {},
   "outputs": [],
   "source": []
  },
  {
   "cell_type": "markdown",
   "id": "ed2fa5d2-5efe-4ba0-aa96-c94585aecf97",
   "metadata": {},
   "source": [
    "4) Define a function that gets a list and a value as inputs. And raise each element of the list to the power specified by the second input (set the default value of the second input to 2)."
   ]
  },
  {
   "cell_type": "code",
   "execution_count": null,
   "id": "cec186f3-ef6e-4c48-a1ef-3fa165e18fab",
   "metadata": {},
   "outputs": [],
   "source": [
    "val1 = [1, 2, 3, 4]\n",
    "val2 = 3"
   ]
  },
  {
   "cell_type": "code",
   "execution_count": null,
   "id": "ea0c1904-364d-4ac0-962a-c7f95d1bd33f",
   "metadata": {},
   "outputs": [],
   "source": []
  },
  {
   "cell_type": "markdown",
   "id": "6f27cb11-4db2-4a30-bc8e-d83002e90a55",
   "metadata": {},
   "source": [
    "5) Define a function that gets two lists as inputs, and returns a new list which is the element-wise summation of the other two lists."
   ]
  },
  {
   "cell_type": "code",
   "execution_count": null,
   "id": "20b380f3-131d-4a48-ace6-126aec28293b",
   "metadata": {},
   "outputs": [],
   "source": [
    "list1 = [1, 2, 3, 4]\n",
    "list2 = [1, 2, 3, 4]"
   ]
  },
  {
   "cell_type": "code",
   "execution_count": null,
   "id": "2813ec88-f1dc-4754-b5ef-4ad9a8d28ceb",
   "metadata": {},
   "outputs": [],
   "source": []
  },
  {
   "cell_type": "markdown",
   "id": "086dc589-86bb-49bd-b1a4-72271d9ca941",
   "metadata": {},
   "source": [
    "6) Define a function that gets a list and returns the mean value of the list. Call the function `get_mean`."
   ]
  },
  {
   "cell_type": "code",
   "execution_count": null,
   "id": "f9f79044-1d59-4142-b61e-f4fac6fea58d",
   "metadata": {},
   "outputs": [],
   "source": [
    "a_list = [1, 2, 3]"
   ]
  },
  {
   "cell_type": "code",
   "execution_count": null,
   "id": "7520ad8b-c599-4d24-9a0d-316e45c3497a",
   "metadata": {},
   "outputs": [],
   "source": []
  },
  {
   "cell_type": "markdown",
   "id": "c4b8c1d5-c915-4d91-8155-b927933a1a31",
   "metadata": {},
   "source": [
    "7) Define a function that gets a list, and subtracts the mean of the list from each element of the list and returns those values in a new list. "
   ]
  },
  {
   "cell_type": "code",
   "execution_count": null,
   "id": "fab93128-ad82-43be-a31a-67e3a1a8b6e8",
   "metadata": {},
   "outputs": [],
   "source": []
  },
  {
   "cell_type": "markdown",
   "id": "c6af052c-c262-42e0-8ca6-f93c69ba793c",
   "metadata": {},
   "source": [
    "8) Define a function that returns the standard deviation of a given list."
   ]
  },
  {
   "cell_type": "code",
   "execution_count": null,
   "id": "af8912ca-787e-400b-a464-388819a3fbdc",
   "metadata": {},
   "outputs": [],
   "source": []
  },
  {
   "cell_type": "markdown",
   "id": "73144657-952c-4843-b9e8-554419206967",
   "metadata": {},
   "source": [
    "9) Define a function that standardizes a given list. Standardization is subtracting the mean and dividing by the standard deviation."
   ]
  },
  {
   "cell_type": "code",
   "execution_count": null,
   "id": "cd0f115d-3d24-4c77-a8e4-da173ebda527",
   "metadata": {},
   "outputs": [],
   "source": []
  },
  {
   "cell_type": "markdown",
   "id": "b3ea2f2e-cae4-4fa1-806b-54f744f11693",
   "metadata": {},
   "source": [
    "10) Let's check and see if the function works fine.\n",
    "- the mean of the returned list should be 0, and\n",
    "- the standard deviation of the list should be 1"
   ]
  },
  {
   "cell_type": "code",
   "execution_count": null,
   "id": "1680b911-c100-41b3-8674-d7385387d759",
   "metadata": {},
   "outputs": [],
   "source": []
  },
  {
   "cell_type": "markdown",
   "id": "9a24d6fe-aea4-4abd-80d7-d92957a41378",
   "metadata": {},
   "source": [
    "---"
   ]
  },
  {
   "cell_type": "markdown",
   "id": "22959bbe-83c1-4250-a746-d6d49f7b1f5a",
   "metadata": {},
   "source": [
    "## Dictionaries\n",
    "\n",
    "Dictionaries (or \"dicts\") are collections like lists, but instead of representing a sequence of values, they represent a mapping of key-value pairs. For example, in a dictionary of dog owners, one would look up the dog's name (the key) and get te corresponding owner's name (the value). As a result, dictionaries are not ordered by nature, it does not matter where an object appears in a dictionary - what matters is the mapping.\n",
    "\n",
    "Dicts are created using the curely braces, `{ }`, and colons,  `:`.\n",
    "\n",
    "``` python\n",
    ">>> owners = {\"dog1\": \"owner1\", \"dog2\": \"owner2\", \"god3\": \"owner3\"}\n",
    ">>> owners[\"dog1\"]\n",
    ">>> \"owner1\"\n",
    "```"
   ]
  },
  {
   "cell_type": "markdown",
   "id": "8eb5b90b-e069-4f75-b46c-9e5e4a762999",
   "metadata": {},
   "source": [
    "1) Create a dictionary in which the keys are the days of the week, and the values are number of hours that you work in that day."
   ]
  },
  {
   "cell_type": "code",
   "execution_count": null,
   "id": "4959d2c6-7bff-459d-9173-e3a29fa150d9",
   "metadata": {},
   "outputs": [],
   "source": []
  },
  {
   "cell_type": "markdown",
   "id": "be0b7af2-903c-444a-b613-c496420f6cdb",
   "metadata": {},
   "source": [
    "2) Define a function that get this dinctionary as input and returns two lists. One list contain the hours for the weekdays, and the other for the weekends."
   ]
  },
  {
   "cell_type": "code",
   "execution_count": null,
   "id": "3a6a80d6-f31b-4226-9811-bc24a414bcab",
   "metadata": {},
   "outputs": [],
   "source": []
  },
  {
   "cell_type": "markdown",
   "id": "e27bc939-cb74-443e-acc7-40de95b0cdcb",
   "metadata": {},
   "source": [
    "3) Implement a function which gets this dictionary as input, and returns the mean number of hours we work. However, this function acccepts another input which specifies whether we want the mean number of hours for the weekdays, weekends, or whole week. Hence your function should accommodate these three different conditions for comptuting the mean value and returning it."
   ]
  },
  {
   "cell_type": "code",
   "execution_count": null,
   "id": "706f504f-2623-4dad-bf64-fff603695648",
   "metadata": {},
   "outputs": [],
   "source": []
  },
  {
   "cell_type": "markdown",
   "id": "afa3e001-e02a-401d-8aa2-50fc3fb8cebb",
   "metadata": {},
   "source": [
    "4) You have a list of single-character strings that represent conditions in your experiment: 'L', 'R', and 'C'. Using the provided dictionary, change those labels to 'Left', 'Right', and 'Center'."
   ]
  },
  {
   "cell_type": "code",
   "execution_count": null,
   "id": "42ca3276-3ede-48a3-b416-eca0d53e02f7",
   "metadata": {},
   "outputs": [],
   "source": [
    "conditions = {'C': 'Center', 'L': 'Left', 'R': 'Right'}\n",
    "conds = ['C', 'L', 'C', 'R', 'C', 'C', 'C', 'R', 'R', 'R']"
   ]
  },
  {
   "cell_type": "code",
   "execution_count": null,
   "id": "3ed979e0-d198-4665-950d-89011c21f60c",
   "metadata": {},
   "outputs": [],
   "source": []
  },
  {
   "cell_type": "markdown",
   "id": "6e836de5-ea65-438d-8f7d-998abd7b30e5",
   "metadata": {},
   "source": [
    "---"
   ]
  },
  {
   "cell_type": "markdown",
   "id": "7fbda0ac-accb-431f-86f2-40d57e53024f",
   "metadata": {},
   "source": [
    "## 4) Numpy"
   ]
  },
  {
   "cell_type": "markdown",
   "id": "71188d3e-cfbe-438d-be34-81b0e2991acf",
   "metadata": {},
   "source": [
    "1) Import the numpy package under the name `np`."
   ]
  },
  {
   "cell_type": "code",
   "execution_count": null,
   "id": "a444ca14-0ebb-4fbe-a0dc-a2cfab2edd3d",
   "metadata": {},
   "outputs": [],
   "source": [
    "import numpy as np"
   ]
  },
  {
   "cell_type": "markdown",
   "id": "1a994001-adb7-44b5-98bc-b025e064a43c",
   "metadata": {},
   "source": [
    "## Creating numpy arrays\n",
    "\n",
    "Numpy provides several ways to create numpy arrays. Use `np.zeros()`, `np.ones()`, `np.arange()`, `np.random.randn()`, `np.linspace()` to create numpy arrays in the following tasks.\n",
    "\n",
    "2) Create a vector with values ranging from 0 to 10."
   ]
  },
  {
   "cell_type": "code",
   "execution_count": null,
   "id": "6e05bfd2-f67a-48b9-88c1-e72faac21432",
   "metadata": {},
   "outputs": [],
   "source": []
  },
  {
   "cell_type": "markdown",
   "id": "580537ce-e650-4320-b13d-d60ac0bf986a",
   "metadata": {},
   "source": [
    "3) Create a vector ranging from 5 to 10."
   ]
  },
  {
   "cell_type": "code",
   "execution_count": null,
   "id": "c1d622b5-5c31-4bee-bfd7-88832c73cf5d",
   "metadata": {},
   "outputs": [],
   "source": []
  },
  {
   "cell_type": "markdown",
   "id": "7fc4cc01-4a09-4a95-9b53-4207f5a86732",
   "metadata": {},
   "source": [
    "4) Create a vector of zeros with 10 elements"
   ]
  },
  {
   "cell_type": "code",
   "execution_count": null,
   "id": "795b92d6-b570-4ab6-9289-bde23e568070",
   "metadata": {},
   "outputs": [],
   "source": []
  },
  {
   "cell_type": "markdown",
   "id": "4ca8129b-a223-460a-b6d1-c3663a7ca794",
   "metadata": {},
   "source": [
    "5) Create a vector of ones with 10 elements"
   ]
  },
  {
   "cell_type": "code",
   "execution_count": null,
   "id": "f6dc886f-8f3b-4ef8-ae1c-df90e7872e11",
   "metadata": {},
   "outputs": [],
   "source": []
  },
  {
   "cell_type": "markdown",
   "id": "e82f6608-dfcd-4714-8a17-f83766cc7569",
   "metadata": {},
   "source": [
    "6) Create a vector ranging from 0 to 10, where the difference between each value is .1, instead of 1."
   ]
  },
  {
   "cell_type": "code",
   "execution_count": null,
   "id": "c6309dbf-5d48-4baa-a971-4285b030fadd",
   "metadata": {},
   "outputs": [],
   "source": []
  },
  {
   "cell_type": "markdown",
   "id": "88c30ee7-8345-4242-a347-347f87b0bc57",
   "metadata": {},
   "source": [
    "7) Create a vector starting from 10, ending on 12, with 21 elements."
   ]
  },
  {
   "cell_type": "code",
   "execution_count": null,
   "id": "6a4862c2-1c20-45da-926b-aac540e41f04",
   "metadata": {},
   "outputs": [],
   "source": []
  },
  {
   "cell_type": "markdown",
   "id": "0b7bdaaf-9692-4f4f-9fa4-3d5477494239",
   "metadata": {},
   "source": [
    "8) Create a 3x3 numpy array with random values drawn from a standard normal distribution."
   ]
  },
  {
   "cell_type": "code",
   "execution_count": null,
   "id": "8e5a75e7-3a29-486e-85a7-64fe3755dc38",
   "metadata": {},
   "outputs": [],
   "source": []
  },
  {
   "cell_type": "markdown",
   "id": "be3426db-ff7f-4b20-a7c9-789ed7936c66",
   "metadata": {},
   "source": [
    "## Data Inspection\n",
    "\n",
    "Before starting to work with any data, it's a good idea to get some insight about the data:\n",
    "- How many dimensions does it have\n",
    "- How many elements does it have in each dimensions (mainly number of rows, columns)"
   ]
  },
  {
   "cell_type": "markdown",
   "id": "8bc97cd0-dda4-4e5d-9e94-fea2cb5ffe93",
   "metadata": {},
   "source": [
    "9) How many dimension does the following numpy array have?"
   ]
  },
  {
   "cell_type": "code",
   "execution_count": null,
   "id": "b8fa307d-9cdc-4c03-b52f-38d380c29a43",
   "metadata": {},
   "outputs": [],
   "source": [
    "my_arr = np.array([[1., 2., 3.], [4., 5., 6.]])"
   ]
  },
  {
   "cell_type": "code",
   "execution_count": null,
   "id": "ac95178e-1eeb-4f90-bbe7-84e5383f6836",
   "metadata": {},
   "outputs": [],
   "source": []
  },
  {
   "cell_type": "markdown",
   "id": "256ef4c5-fb2f-49ce-993e-f7070697768b",
   "metadata": {},
   "source": [
    "10) How many elements does it have in each dimension (i.e., what is the shape of it)?"
   ]
  },
  {
   "cell_type": "code",
   "execution_count": null,
   "id": "3e4e9915-c7f6-40a3-8f19-2ce516903ad2",
   "metadata": {},
   "outputs": [],
   "source": []
  },
  {
   "cell_type": "markdown",
   "id": "c09c832c-48a0-4056-b36a-2b4d526fd8a6",
   "metadata": {},
   "source": [
    "11) What is the data type of the elements of `my_arr`?"
   ]
  },
  {
   "cell_type": "code",
   "execution_count": null,
   "id": "16a7400f-6cef-4e64-91d1-c873035762f8",
   "metadata": {},
   "outputs": [],
   "source": []
  },
  {
   "cell_type": "markdown",
   "id": "21aa1a7b-6003-4d9e-800f-9e6350d83ba2",
   "metadata": {},
   "source": [
    "---"
   ]
  }
 ],
 "metadata": {
  "kernelspec": {
   "display_name": "Python 3",
   "language": "python",
   "name": "python3"
  },
  "language_info": {
   "codemirror_mode": {
    "name": "ipython",
    "version": 3
   },
   "file_extension": ".py",
   "mimetype": "text/x-python",
   "name": "python",
   "nbconvert_exporter": "python",
   "pygments_lexer": "ipython3",
   "version": "3.9.2"
  }
 },
 "nbformat": 4,
 "nbformat_minor": 5
}
