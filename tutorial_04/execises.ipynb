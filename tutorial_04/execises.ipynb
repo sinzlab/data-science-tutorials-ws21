{
 "cells": [
  {
   "cell_type": "markdown",
   "id": "2079912e-102c-49a8-a21d-c730620ee168",
   "metadata": {},
   "source": [
    "# Tutorial 04: Short exercises"
   ]
  },
  {
   "cell_type": "markdown",
   "id": "17dbacf2-3aa6-4967-9842-d8bafc4a0e8d",
   "metadata": {},
   "source": [
    "## Exercise #1"
   ]
  },
  {
   "cell_type": "markdown",
   "id": "7e361fc6-0d5f-4c40-a06c-a9b6e5725b2f",
   "metadata": {},
   "source": [
    "## Dictionaries\n",
    "\n",
    "Dictionaries (or \"dicts\") are collections like lists, but instead of representing a sequence of values, they represent a mapping of key-value pairs. For example, in a dictionary of dog owners, one would look up the dog's name (the key) and get te corresponding owner's name (the value). As a result, dictionaries are not ordered by nature, it does not matter where an object appears in a dictionary - what matters is the mapping.\n",
    "\n",
    "Dicts are created using the curely braces, `{ }`, and colons,  `:`.\n",
    "\n",
    "``` python\n",
    ">>> owners = {\"dog1\": \"owner1\", \"dog2\": \"owner2\", \"god3\": \"owner3\"}\n",
    ">>> owners[\"dog1\"]\n",
    ">>> \"owner1\"\n",
    "```"
   ]
  },
  {
   "cell_type": "markdown",
   "id": "9921304f-6bcb-4c3e-b2cb-d899fe69997f",
   "metadata": {},
   "source": [
    "#### 1) Create a dictionary in which the keys are the days of the week, and the values are number of hours that you work in that day."
   ]
  },
  {
   "cell_type": "code",
   "execution_count": null,
   "id": "212f8a2a-c423-47e5-bb0a-cb91b47bf630",
   "metadata": {},
   "outputs": [],
   "source": []
  },
  {
   "cell_type": "markdown",
   "id": "a2b8df16-3e25-4417-a760-da140fcee067",
   "metadata": {},
   "source": [
    "#### 2) Define a function that get this dinctionary as input and returns two lists. One list contain the hours for the weekdays, and the other for the weekends."
   ]
  },
  {
   "cell_type": "code",
   "execution_count": null,
   "id": "6977357a-3358-481d-b89d-204b09230e06",
   "metadata": {},
   "outputs": [],
   "source": []
  },
  {
   "cell_type": "markdown",
   "id": "02136e07-aa3d-4192-aef3-d2278627056e",
   "metadata": {},
   "source": [
    "#### 3) Implement a function which gets this dictionary as input, and returns the mean number of hours we work. However, this function acccepts another input which specifies whether we want the mean number of hours for the weekdays, weekends, or whole week. Hence your function should accommodate these three different conditions for comptuting the mean value and returning it."
   ]
  },
  {
   "cell_type": "code",
   "execution_count": null,
   "id": "2bb7c964-e73a-492c-acc9-04d29336f170",
   "metadata": {},
   "outputs": [],
   "source": []
  },
  {
   "cell_type": "markdown",
   "id": "038a5fbe-76fe-4b14-87ab-2faa0e10d2a6",
   "metadata": {},
   "source": [
    "#### 4) You have a list of single-character strings that represent conditions in your experiment: 'L', 'R', and 'C'. Using the provided dictionary, change those labels to 'Left', 'Right', and 'Center'."
   ]
  },
  {
   "cell_type": "code",
   "execution_count": 53,
   "id": "d1b241b4-a5b7-448a-af3f-db70b253efe5",
   "metadata": {},
   "outputs": [],
   "source": [
    "conditions = {'C': 'Center', 'L': 'Left', 'R': 'Right'}\n",
    "conds = ['C', 'L', 'C', 'R', 'C', 'C', 'C', 'R', 'R', 'R']"
   ]
  },
  {
   "cell_type": "code",
   "execution_count": null,
   "id": "93c0c5f9-0a4c-462a-8065-64033a04024c",
   "metadata": {},
   "outputs": [],
   "source": []
  },
  {
   "cell_type": "markdown",
   "id": "0fc84df4-c8d9-41db-a8d6-8b446de82713",
   "metadata": {},
   "source": [
    "---"
   ]
  },
  {
   "cell_type": "markdown",
   "id": "c9117cc1-be8e-4130-ab96-dd00eb38db28",
   "metadata": {},
   "source": [
    "## Exercise #2"
   ]
  },
  {
   "cell_type": "markdown",
   "id": "860ce389-26ea-4393-9f2d-2f96ed79a1ed",
   "metadata": {
    "tags": []
   },
   "source": [
    "#### Create a function that get any 2D array and performs either a vertical or a horizontal split (divide into half) depending on the mode ('horizontal' or 'vertical').\n",
    "\n",
    "#### Here is how your function definition should look like:\n",
    "\n",
    "``` python\n",
    "def split_2d(arr, mode):\n",
    "    \n",
    "    ######################\n",
    "\n",
    "    ### Your code here ###\n",
    "\n",
    "    ######################\n",
    "\n",
    "return array_1, array_2\n",
    "```\n",
    "\n",
    "#### Here is how one will use the function:\n",
    "\n",
    "``` python\n",
    "array_up, array_down = split_2d(example_arr, mode='vertical')\n",
    "array_left, array_right = split_2d(example_arr, mode='horizontal')\n",
    "```"
   ]
  },
  {
   "cell_type": "code",
   "execution_count": null,
   "id": "805bf4b0-bc04-43a9-bd52-63635d797f28",
   "metadata": {},
   "outputs": [],
   "source": []
  },
  {
   "cell_type": "markdown",
   "id": "7b7abdea-7f51-4b40-b5ce-7f12dd121a22",
   "metadata": {},
   "source": [
    "---"
   ]
  },
  {
   "cell_type": "markdown",
   "id": "11f502fa-0918-4de0-8a02-3db8cc990736",
   "metadata": {},
   "source": [
    "## Exercise #3"
   ]
  },
  {
   "cell_type": "markdown",
   "id": "61d385ea-5bdd-456c-ad04-f3a915e1347f",
   "metadata": {},
   "source": [
    "#### 1. plot a scatter plot between x and y where $x>0$ and $x\\le0$ are colored differently. And improve your plot as much as you can."
   ]
  },
  {
   "cell_type": "code",
   "execution_count": 4,
   "id": "1e079711-f813-4010-858e-a99d7372d204",
   "metadata": {},
   "outputs": [],
   "source": [
    "x = np.random.randn(1000)\n",
    "y = np.random.randn(1000)"
   ]
  },
  {
   "cell_type": "code",
   "execution_count": null,
   "id": "f9e0944b-f94b-4455-a52d-8b2d8b50f464",
   "metadata": {},
   "outputs": [],
   "source": []
  },
  {
   "cell_type": "markdown",
   "id": "877ace79-2766-4939-9b77-483a7082acd0",
   "metadata": {},
   "source": [
    "#### 2. Plot the histogram of x and y, each in a different axes, but side-by-side in a single figure."
   ]
  },
  {
   "cell_type": "code",
   "execution_count": null,
   "id": "8cb5ad20-5da2-46c0-acc8-0202fd544cb0",
   "metadata": {},
   "outputs": [],
   "source": []
  },
  {
   "cell_type": "markdown",
   "id": "efa9517f-6894-49d9-a99e-de90672dc611",
   "metadata": {},
   "source": [
    "---"
   ]
  },
  {
   "cell_type": "markdown",
   "id": "ddc447dc-9924-45ed-a1bb-18445f2f42d8",
   "metadata": {},
   "source": [
    "## Exercise #4"
   ]
  },
  {
   "cell_type": "markdown",
   "id": "6a71e11f-ce89-471f-b302-b0f6b12cb03d",
   "metadata": {},
   "source": [
    "#### 1. Load the titanic dataset as a pandas DataFrame"
   ]
  },
  {
   "cell_type": "code",
   "execution_count": null,
   "id": "267e6049-1908-40eb-854d-8edb8b7e4051",
   "metadata": {},
   "outputs": [],
   "source": []
  },
  {
   "cell_type": "markdown",
   "id": "467b9a96-df3e-4b32-b639-ce26c90bd496",
   "metadata": {},
   "source": [
    "#### 2. By means of plotting, answer the following questions:\n",
    "#### a. What is the distribution of passenger ages?\n",
    "#### b. Were the passengers generally younger than the average or older?\n",
    "#### c. Does the result in (b) change for male and female?\n",
    "#### d. Which gender had a higher survival percentage?\n",
    "#### e. What is the average ticket price (fare) for each class? \n",
    "#### f. Which ticket class had a higher survival percentage?"
   ]
  },
  {
   "cell_type": "code",
   "execution_count": null,
   "id": "934d1170-766d-49bb-bbff-bfca8eabff2d",
   "metadata": {},
   "outputs": [],
   "source": []
  }
 ],
 "metadata": {
  "kernelspec": {
   "display_name": "Python 3",
   "language": "python",
   "name": "python3"
  },
  "language_info": {
   "codemirror_mode": {
    "name": "ipython",
    "version": 3
   },
   "file_extension": ".py",
   "mimetype": "text/x-python",
   "name": "python",
   "nbconvert_exporter": "python",
   "pygments_lexer": "ipython3",
   "version": "3.9.2"
  }
 },
 "nbformat": 4,
 "nbformat_minor": 5
}
