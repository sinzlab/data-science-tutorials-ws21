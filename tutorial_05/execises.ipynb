{
 "cells": [
  {
   "cell_type": "markdown",
   "id": "2079912e-102c-49a8-a21d-c730620ee168",
   "metadata": {},
   "source": [
    "# Tutorial 05: Short exercises"
   ]
  },
  {
   "cell_type": "markdown",
   "id": "fd5d8e95-d82c-4ac7-86dc-6cdae5db3de8",
   "metadata": {},
   "source": [
    "## Exercise #1"
   ]
  },
  {
   "cell_type": "markdown",
   "id": "659170d3-8eb2-4677-8bef-368da89982df",
   "metadata": {},
   "source": [
    "#### 1. Import the `tips` csv file."
   ]
  },
  {
   "cell_type": "code",
   "execution_count": null,
   "id": "f9a33129-98f2-48eb-8f86-afd54f6ee3ec",
   "metadata": {},
   "outputs": [],
   "source": []
  },
  {
   "cell_type": "markdown",
   "id": "0bb9c653-f61a-4efb-99a7-184b5d309f85",
   "metadata": {},
   "source": [
    "#### 2. How many columns and rows does this dataframe have?"
   ]
  },
  {
   "cell_type": "code",
   "execution_count": null,
   "id": "2a2f2c2c-b187-4305-ac7d-5e8be74543a0",
   "metadata": {},
   "outputs": [],
   "source": []
  },
  {
   "cell_type": "markdown",
   "id": "2f08bdb7-144c-4e08-b67d-7f77cb366f17",
   "metadata": {},
   "source": [
    "#### 3. What are the columns of the dataframe?"
   ]
  },
  {
   "cell_type": "code",
   "execution_count": null,
   "id": "47b7ab3f-44eb-45da-b7e4-5d4c367f1f6b",
   "metadata": {},
   "outputs": [],
   "source": []
  },
  {
   "cell_type": "markdown",
   "id": "d827076d-5ecc-4d64-be2a-1578a8aec5c6",
   "metadata": {},
   "source": [
    "#### 4. How many numerical and non-numerical columns does it contain?"
   ]
  },
  {
   "cell_type": "code",
   "execution_count": null,
   "id": "bd00f881-9095-47ce-ad7b-b0137e858d8e",
   "metadata": {},
   "outputs": [],
   "source": []
  },
  {
   "cell_type": "markdown",
   "id": "7301645b-4f3d-4a8a-a8c5-0af54e482c26",
   "metadata": {},
   "source": [
    "#### 5. What is the mean amount of total bill?"
   ]
  },
  {
   "cell_type": "code",
   "execution_count": null,
   "id": "6469d6ac-a201-44e7-8139-554b9c473525",
   "metadata": {},
   "outputs": [],
   "source": []
  },
  {
   "cell_type": "markdown",
   "id": "1b580da0-e6ec-4f46-9454-35caa221801b",
   "metadata": {},
   "source": [
    "#### 6. By means of visualization investigate whether there are any correlations between the amount of tips given and the total bill."
   ]
  },
  {
   "cell_type": "code",
   "execution_count": null,
   "id": "880563e0-b2c3-4abb-98c2-782376a0d215",
   "metadata": {},
   "outputs": [],
   "source": []
  },
  {
   "cell_type": "markdown",
   "id": "4827ab09-ba47-4743-ad64-497c7e1ae306",
   "metadata": {},
   "source": [
    "#### 7. Do women tip more or men? - What is the mean value of tips given by men and women?"
   ]
  },
  {
   "cell_type": "code",
   "execution_count": null,
   "id": "a1ac4694-8f0a-4cca-b3e1-58c33185ead1",
   "metadata": {},
   "outputs": [],
   "source": []
  },
  {
   "cell_type": "markdown",
   "id": "aefcd562-f437-42ae-9eac-18777fa07adc",
   "metadata": {},
   "source": [
    "---"
   ]
  },
  {
   "cell_type": "markdown",
   "id": "ddc447dc-9924-45ed-a1bb-18445f2f42d8",
   "metadata": {},
   "source": [
    "## Exercise #2"
   ]
  },
  {
   "cell_type": "markdown",
   "id": "6a71e11f-ce89-471f-b302-b0f6b12cb03d",
   "metadata": {},
   "source": [
    "#### 1. Load the titanic dataset as a pandas DataFrame"
   ]
  },
  {
   "cell_type": "code",
   "execution_count": null,
   "id": "267e6049-1908-40eb-854d-8edb8b7e4051",
   "metadata": {},
   "outputs": [],
   "source": []
  },
  {
   "cell_type": "markdown",
   "id": "467b9a96-df3e-4b32-b639-ce26c90bd496",
   "metadata": {
    "tags": []
   },
   "source": [
    "#### 2. By means of visualiztion, answer the following questions:\n",
    "#### a. What is the distribution of passenger ages?\n",
    "#### b. Were the passengers generally younger than the average or older?\n",
    "#### c. Does the result in (b) change for male and female?\n",
    "#### d. Which gender had a higher survival percentage?\n",
    "#### e. What is the average ticket price (fare) for each class? \n",
    "#### f. Which ticket class had a higher survival percentage?"
   ]
  },
  {
   "cell_type": "markdown",
   "id": "35e04dfc-4428-491f-8433-189f599a0298",
   "metadata": {},
   "source": [
    "---"
   ]
  },
  {
   "cell_type": "markdown",
   "id": "6e723f2c-a31e-4e3a-a456-60e326d98db0",
   "metadata": {},
   "source": [
    "## Exercise #3"
   ]
  },
  {
   "cell_type": "markdown",
   "id": "58653df3-4545-4269-b0f2-faa0e1bce12b",
   "metadata": {},
   "source": [
    "#### 1. Define a normal distribution with mean 10 and standard deviation (SD) 3."
   ]
  },
  {
   "cell_type": "code",
   "execution_count": null,
   "id": "b98cb043-2469-4438-a3ac-40ba6066743a",
   "metadata": {},
   "outputs": [],
   "source": []
  },
  {
   "cell_type": "markdown",
   "id": "089ae0d6-3ce0-4fbd-9f71-f59f674de5f8",
   "metadata": {},
   "source": [
    "#### 2. Consider the above normal distribution the true distribution underlying the population. Draw samples from the population for 1000 times, with sample size of n=20, and plot the sampling distribution. "
   ]
  },
  {
   "cell_type": "code",
   "execution_count": null,
   "id": "9a6ae0f3-83aa-4d79-8dd8-abd4c75bb8ff",
   "metadata": {},
   "outputs": [],
   "source": []
  },
  {
   "cell_type": "markdown",
   "id": "e8900a85-3c6b-4898-a9a1-143374f71611",
   "metadata": {},
   "source": [
    "#### 3. What is the relationship between standard deviation of the population distribution and the standard devation of the sampling distribution? And does that match the empirical results?"
   ]
  },
  {
   "cell_type": "code",
   "execution_count": null,
   "id": "0280b362-6302-4fc8-8d15-5b020cfcf33c",
   "metadata": {},
   "outputs": [],
   "source": []
  },
  {
   "cell_type": "markdown",
   "id": "5cbb3e2b-79eb-4b1f-9878-bba4c5c0b283",
   "metadata": {},
   "source": [
    "#### 4. Load the numpy array `sample.npy`. Find the bounds of the 95% confidence interval for the mean via bootstrapping."
   ]
  },
  {
   "cell_type": "code",
   "execution_count": null,
   "id": "d7c7d6f8-4793-4e9a-a2e8-3a3e8b12292e",
   "metadata": {},
   "outputs": [],
   "source": []
  },
  {
   "cell_type": "markdown",
   "id": "5ef04607-6e73-407e-8598-da8862c1fa52",
   "metadata": {
    "tags": []
   },
   "source": [
    "#### 5. Consider the null hypothesis that the population **mean** $=5$ and the alternative hypothesis is that **mean** $\\neq5$ . Using bootstrapping, would you reject the null hypothesis? "
   ]
  },
  {
   "cell_type": "code",
   "execution_count": null,
   "id": "ceec87ff-bc80-458e-b70f-b94a8cc448d7",
   "metadata": {},
   "outputs": [],
   "source": []
  },
  {
   "cell_type": "markdown",
   "id": "c15c513d-5986-48df-bba1-109cd12c0834",
   "metadata": {},
   "source": [
    "---"
   ]
  },
  {
   "cell_type": "markdown",
   "id": "38c4b656-8a0b-4cf5-a8b3-20695e7727b7",
   "metadata": {},
   "source": [
    "## Exercise #4"
   ]
  },
  {
   "cell_type": "markdown",
   "id": "9fd97a44-e8be-4306-893f-8935b4b0b2fe",
   "metadata": {},
   "source": [
    "#### 1. Load the numpy array `sample.npy`. Find the bounds of the 95% confidence interval for the mean using the t-distribution."
   ]
  },
  {
   "cell_type": "code",
   "execution_count": null,
   "id": "8b204782-5bb0-4359-b1fa-fd6de4b30793",
   "metadata": {},
   "outputs": [],
   "source": []
  },
  {
   "cell_type": "markdown",
   "id": "f2c13798-b6cb-45fd-9cc7-878a36ebcabc",
   "metadata": {
    "tags": []
   },
   "source": [
    "#### 2. Consider the null hypothesis that the population **mean** $=5$ and the alternative hypothesis is that **mean** $\\neq5$ . Using the t-distribution, would you reject the null hypothesis? "
   ]
  },
  {
   "cell_type": "code",
   "execution_count": null,
   "id": "e98dde82-ff5d-41ee-9434-a0e9c32c96ec",
   "metadata": {},
   "outputs": [],
   "source": []
  }
 ],
 "metadata": {
  "kernelspec": {
   "display_name": "Python 3 (ipykernel)",
   "language": "python",
   "name": "python3"
  },
  "language_info": {
   "codemirror_mode": {
    "name": "ipython",
    "version": 3
   },
   "file_extension": ".py",
   "mimetype": "text/x-python",
   "name": "python",
   "nbconvert_exporter": "python",
   "pygments_lexer": "ipython3",
   "version": "3.9.7"
  }
 },
 "nbformat": 4,
 "nbformat_minor": 5
}
