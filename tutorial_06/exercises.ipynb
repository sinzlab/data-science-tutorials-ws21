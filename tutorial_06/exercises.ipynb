{
 "cells": [
  {
   "cell_type": "markdown",
   "id": "b52dc8c1",
   "metadata": {},
   "source": [
    "# Tutorial 06: exercises"
   ]
  },
  {
   "cell_type": "markdown",
   "id": "c163668a",
   "metadata": {},
   "source": [
    "---"
   ]
  },
  {
   "cell_type": "markdown",
   "id": "aa55b1cd",
   "metadata": {},
   "source": [
    "## Exercise #1"
   ]
  },
  {
   "cell_type": "markdown",
   "id": "ae5db65f",
   "metadata": {
    "tags": []
   },
   "source": [
    "#### 1. Load the titanic dataset as a pandas DataFrame"
   ]
  },
  {
   "cell_type": "code",
   "execution_count": null,
   "id": "2be5821f",
   "metadata": {},
   "outputs": [],
   "source": []
  },
  {
   "cell_type": "markdown",
   "id": "86f5e302",
   "metadata": {
    "tags": []
   },
   "source": [
    "#### 2. By means of visualiztion, answer the following questions:\n",
    "#### a. What is the average ticket price (fare) for each class? \n",
    "#### b. Which ticket class had a higher survival percentage?"
   ]
  },
  {
   "cell_type": "code",
   "execution_count": null,
   "id": "587617a5",
   "metadata": {},
   "outputs": [],
   "source": []
  },
  {
   "cell_type": "markdown",
   "id": "39b159db",
   "metadata": {},
   "source": [
    "---"
   ]
  },
  {
   "cell_type": "markdown",
   "id": "0cd6bcca",
   "metadata": {},
   "source": [
    "## Exercise #2"
   ]
  },
  {
   "cell_type": "markdown",
   "id": "5f166079",
   "metadata": {
    "tags": []
   },
   "source": [
    "#### For the data in the numpy array `sample.npy`, consider the null hypothesis that the population **mean** $=5$ and the alternative hypothesis is that **mean** $\\neq5$ . Using bootstrapping, \n",
    "- compute the p-value.\n",
    "- Given the significance level ($\\alpha$) of $0.05$, do you have enough evidence to reject the null hypothesis? "
   ]
  },
  {
   "cell_type": "code",
   "execution_count": null,
   "id": "b8adbaa0",
   "metadata": {},
   "outputs": [],
   "source": []
  },
  {
   "cell_type": "markdown",
   "id": "64066199",
   "metadata": {},
   "source": [
    "---"
   ]
  },
  {
   "cell_type": "markdown",
   "id": "305c5eac",
   "metadata": {},
   "source": [
    "## Exercise #3"
   ]
  },
  {
   "cell_type": "markdown",
   "id": "b54cb516",
   "metadata": {
    "tags": []
   },
   "source": [
    "#### 1. Load the numpy arrays `independent_var.npy` and `dependent_var.npy`."
   ]
  },
  {
   "cell_type": "code",
   "execution_count": null,
   "id": "d8a6ffe3",
   "metadata": {},
   "outputs": [],
   "source": []
  },
  {
   "cell_type": "markdown",
   "id": "9b6884e5",
   "metadata": {
    "tags": []
   },
   "source": [
    "#### 2. Using the pseudoinverse method, find the slope $m$ and intercept $c$ such that $y = mx + c$, where $x$ is independent variable and $y$ is the dependent variable."
   ]
  },
  {
   "cell_type": "code",
   "execution_count": null,
   "id": "7d9325f8",
   "metadata": {},
   "outputs": [],
   "source": []
  },
  {
   "cell_type": "markdown",
   "id": "9fb18fe0",
   "metadata": {
    "tags": []
   },
   "source": [
    "#### 3. Repeat (2) using sklearn package."
   ]
  },
  {
   "cell_type": "code",
   "execution_count": null,
   "id": "756eab57",
   "metadata": {},
   "outputs": [],
   "source": []
  }
 ],
 "metadata": {
  "kernelspec": {
   "display_name": "Python 3 (ipykernel)",
   "language": "python",
   "name": "python3"
  },
  "language_info": {
   "codemirror_mode": {
    "name": "ipython",
    "version": 3
   },
   "file_extension": ".py",
   "mimetype": "text/x-python",
   "name": "python",
   "nbconvert_exporter": "python",
   "pygments_lexer": "ipython3",
   "version": "3.9.7"
  }
 },
 "nbformat": 4,
 "nbformat_minor": 5
}
